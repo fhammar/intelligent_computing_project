{
 "cells": [
  {
   "cell_type": "markdown",
   "metadata": {
    "collapsed": true
   },
   "source": [
    "## TODO\n",
    "\n",
    "1. find out how to fit the tokenized thing in the model\n",
    "2. put the code in a python script so that we can run it on the competition day\n",
    "3. how to read the answer.evaluate"
   ]
  },
  {
   "cell_type": "markdown",
   "metadata": {},
   "source": [
    "# Insert data and tokenize it"
   ]
  },
  {
   "cell_type": "code",
   "execution_count": 22,
   "metadata": {
    "collapsed": true
   },
   "outputs": [],
   "source": [
    "#To run this notebook, you need to have the folder \"AI_Course_Final\" (downloaded from Kaggle) \n",
    "#in the parent folder of the git-repository-folder"
   ]
  },
  {
   "cell_type": "code",
   "execution_count": 23,
   "metadata": {},
   "outputs": [
    {
     "name": "stdout",
     "output_type": "stream",
     "text": [
      "The autoreload extension is already loaded. To reload it, use:\n",
      "  %reload_ext autoreload\n"
     ]
    }
   ],
   "source": [
    "%load_ext autoreload\n",
    "%autoreload 2"
   ]
  },
  {
   "cell_type": "code",
   "execution_count": 24,
   "metadata": {},
   "outputs": [],
   "source": [
    "import pandas as pd\n",
    "from keras.preprocessing.text import Tokenizer\n",
    "import copy\n",
    "import os\n",
    "from functools import reduce\n",
    "import pickle\n",
    "import numpy as np"
   ]
  },
  {
   "cell_type": "code",
   "execution_count": 25,
   "metadata": {},
   "outputs": [
    {
     "name": "stdout",
     "output_type": "stream",
     "text": [
      "/Users/fridahammarberg/Documents/NTHU/intelligent_computing/project/intelligent_computing_project\n",
      "/Users/fridahammarberg/Documents/NTHU/intelligent_computing/project\n",
      "/Users/fridahammarberg/Documents/NTHU/intelligent_computing/project/AI_Course_Final/CBTest/data/cbt_test.txt\n"
     ]
    }
   ],
   "source": [
    "current = os.getcwd()\n",
    "print(current) # displays our current directory\n",
    "parent = os.path.abspath(os.path.join(current, os.pardir)) \n",
    "print(parent) # displays the parent directory\n",
    "path = parent + \"/AI_Course_Final/CBTest/data/cbt_test.txt\"\n",
    "print(path) \n",
    "os.path.exists(path)\n",
    "# Check if the wanted path exist. Must be True!!\n",
    "test = pd.read_csv(path, sep='\\n')"
   ]
  },
  {
   "cell_type": "code",
   "execution_count": 26,
   "metadata": {
    "collapsed": true
   },
   "outputs": [],
   "source": [
    "path_CN_test = parent + \"/AI_Course_Final/CBTest/data/cbtest_CN_test_2500ex.txt\"\n",
    "path_CN_train = parent + \"/AI_Course_Final/CBTest/data/cbtest_CN_train.txt\"\n",
    "path_CN_valid = parent + \"/AI_Course_Final/CBTest/data/cbtest_CN_valid_2000ex.txt\"\n",
    "\n",
    "path_NE_test = parent + \"/AI_Course_Final/CBTest/data/cbtest_NE_test_2500ex.txt\"\n",
    "path_NE_train = parent + \"/AI_Course_Final/CBTest/data/cbtest_NE_train.txt\"\n",
    "path_NE_valid = parent + \"/AI_Course_Final/CBTest/data/cbtest_NE_valid_2000ex.txt\"\n",
    "\n",
    "path_P_test = parent + \"/AI_Course_Final/CBTest/data/cbtest_P_test_2500ex.txt\"\n",
    "path_P_train = parent + \"/AI_Course_Final/CBTest/data/cbtest_P_train.txt\"\n",
    "path_P_valid = parent + \"/AI_Course_Final/CBTest/data/cbtest_P_valid_2000ex.txt\"\n",
    "\n",
    "path_V_test = parent + \"/AI_Course_Final/CBTest/data/cbtest_V_test_2500ex.txt\"\n",
    "path_V_train = parent + \"/AI_Course_Final/CBTest/data/cbtest_V_train.txt\"\n",
    "path_V_valid = parent + \"/AI_Course_Final/CBTest/data/cbtest_V_valid_2000ex.txt\""
   ]
  },
  {
   "cell_type": "code",
   "execution_count": 27,
   "metadata": {
    "collapsed": true
   },
   "outputs": [],
   "source": [
    "pd.set_option('display.max_colwidth', -1)\n",
    "\n",
    "CN_test = pd.read_csv(path_CN_test, sep='\\n', delimiter='\\t', header=None, names=['sentence','answer','empty','options'])\n",
    "CN_train = pd.read_csv(path_CN_train, sep='\\n', delimiter='\\t', header=None, names=['sentence','answer','empty','options'])\n",
    "CN_valid = pd.read_csv(path_CN_valid, sep='\\n', delimiter='\\t', header=None, names=['sentence','answer','empty','options'])\n",
    "\n",
    "NE_test = pd.read_csv(path_NE_test, sep='\\n', delimiter='\\t', header=None, names=['sentence','answer','empty','options'])\n",
    "NE_train = pd.read_csv(path_NE_train, sep='\\n', delimiter='\\t', header=None, names=['sentence','answer','empty','options'])\n",
    "NE_valid = pd.read_csv(path_NE_valid, sep='\\n', delimiter='\\t', header=None, names=['sentence','answer','empty','options'])\n",
    "\n",
    "P_test = pd.read_csv(path_P_test, sep='\\n', delimiter='\\t', header=None, names=['sentence','answer','empty','options'])\n",
    "P_train = pd.read_csv(path_P_train, sep='\\n', delimiter='\\t', header=None, names=['sentence','answer','empty','options'])\n",
    "P_valid = pd.read_csv(path_P_test, sep='\\n', delimiter='\\t', header=None, names=['sentence','answer','empty','options'])\n",
    "\n",
    "V_test = pd.read_csv(path_V_test, sep='\\n', delimiter='\\t', header=None, names=['sentence','answer','empty','options'])\n",
    "V_train = pd.read_csv(path_V_train, sep='\\n', delimiter='\\t', header=None, names=['sentence','answer','empty','options'])\n",
    "V_valid = pd.read_csv(path_V_valid, sep='\\n', delimiter='\\t', header=None, names=['sentence','answer','empty','options'])"
   ]
  },
  {
   "cell_type": "code",
   "execution_count": 28,
   "metadata": {
    "collapsed": true
   },
   "outputs": [],
   "source": [
    "test_df = pd.concat([CN_test, NE_test, P_test, V_test])\n",
    "\n",
    "train_df = pd.concat([CN_train, NE_train, P_train, V_train])\n",
    "\n",
    "valid_df = pd.concat([CN_valid, NE_valid, P_valid, V_valid])"
   ]
  },
  {
   "cell_type": "code",
   "execution_count": 29,
   "metadata": {
    "collapsed": true
   },
   "outputs": [],
   "source": [
    "test_data = test_df[['sentence']].copy()\n",
    "train_data = train_df[['sentence']].copy()\n",
    "valid_data = valid_df[['sentence']].copy()"
   ]
  },
  {
   "cell_type": "code",
   "execution_count": 30,
   "metadata": {
    "collapsed": true
   },
   "outputs": [],
   "source": [
    "# delete the nbrs in the beginning of each sentence\n",
    "test_data['sentence'] = test_data['sentence'].map(lambda x: x.lstrip('1234567890'))\n",
    "train_data['sentence'] = train_data['sentence'].map(lambda x: x.lstrip('1234567890'))\n",
    "valid_data['sentence'] = valid_data['sentence'].map(lambda x: x.lstrip('1234567890'))"
   ]
  },
  {
   "cell_type": "code",
   "execution_count": 31,
   "metadata": {
    "collapsed": true
   },
   "outputs": [],
   "source": [
    "test_answer = test_df[['answer']].copy().dropna(axis=0, how='any').reset_index(drop=True)\n",
    "train_answer = train_df[['answer']].copy().dropna(axis=0, how='any').reset_index(drop=True)\n",
    "valid_answer = valid_df[['answer']].copy().dropna(axis=0, how='any').reset_index(drop=True)"
   ]
  },
  {
   "cell_type": "code",
   "execution_count": 32,
   "metadata": {
    "collapsed": true
   },
   "outputs": [],
   "source": [
    "test_option = test_df[['options']].copy().dropna(axis=0, how='any').reset_index(drop=True)\n",
    "train_option = train_df[['options']].copy().dropna(axis=0, how='any').reset_index(drop=True)\n",
    "valid_option = valid_df[['options']].copy().dropna(axis=0, how='any').reset_index(drop=True)"
   ]
  },
  {
   "cell_type": "code",
   "execution_count": 33,
   "metadata": {
    "collapsed": true
   },
   "outputs": [],
   "source": [
    "test_option_list = []\n",
    "k = 0\n",
    "for x in test_option.iterrows():\n",
    "    string_opt = test_option.values[k][0].replace(\"|\", \" \")\n",
    "    test_option_list.append(string_opt)\n",
    "    k += 1\n",
    "    \n",
    "test_option_df = pd.DataFrame(test_option_list, columns=['options'])\n",
    "\n",
    "\n",
    "train_option_list = []\n",
    "k = 0\n",
    "for x in train_option.iterrows():\n",
    "    string_opt = train_option.values[k][0].replace(\"|\", \" \")\n",
    "    train_option_list.append(string_opt)\n",
    "    k += 1\n",
    "    \n",
    "train_option_df = pd.DataFrame(train_option_list, columns=['options'])\n",
    "\n",
    "\n",
    "valid_option_list = []\n",
    "k = 0\n",
    "for x in valid_option.iterrows():\n",
    "    string_opt = valid_option.values[k][0].replace(\"|\", \" \")\n",
    "    valid_option_list.append(string_opt)\n",
    "    k += 1\n",
    "    \n",
    "valid_option_df = pd.DataFrame(valid_option_list, columns=['options'])"
   ]
  },
  {
   "cell_type": "code",
   "execution_count": 34,
   "metadata": {
    "collapsed": true
   },
   "outputs": [],
   "source": [
    "test_data_list = test_data['sentence'].tolist()\n",
    "train_data_list = train_data['sentence'].tolist()\n",
    "valid_data_list = valid_data['sentence'].tolist()\n",
    "\n",
    "test_answer_list = test_answer['answer'].tolist()\n",
    "train_answer_list = train_answer['answer'].tolist()\n",
    "valid_answer_list = valid_answer['answer'].tolist()"
   ]
  },
  {
   "cell_type": "code",
   "execution_count": 35,
   "metadata": {
    "collapsed": true
   },
   "outputs": [],
   "source": [
    "n = 10\n",
    "new_test_data_list = copy.deepcopy(test_data_list[:21*2*n])\n",
    "new_test_answer_list = copy.deepcopy(test_answer_list[:2*n])\n",
    "new_test_option_list = copy.deepcopy(test_option_list[:2*n])"
   ]
  },
  {
   "cell_type": "code",
   "execution_count": 36,
   "metadata": {
    "collapsed": true
   },
   "outputs": [],
   "source": [
    "new_train_data_list = copy.deepcopy(train_data_list[:21*8*n])\n",
    "new_train_answer_list = copy.deepcopy(train_answer_list[:8*n])\n",
    "new_train_option_list = copy.deepcopy(train_option_list[:8*n])"
   ]
  },
  {
   "cell_type": "code",
   "execution_count": 37,
   "metadata": {
    "collapsed": true
   },
   "outputs": [],
   "source": [
    "tokenizer = Tokenizer()"
   ]
  },
  {
   "cell_type": "code",
   "execution_count": 38,
   "metadata": {
    "collapsed": true
   },
   "outputs": [],
   "source": [
    "#tokenizer.fit_on_texts(test_data_list)\n",
    "#tokenizer.fit_on_texts(train_data_list)\n",
    "#tokenizer.fit_on_texts(valid_data_list)"
   ]
  },
  {
   "cell_type": "code",
   "execution_count": 39,
   "metadata": {},
   "outputs": [],
   "source": [
    "#new_test_data_list[20+21*5] #use this one to test so the result below is correct!"
   ]
  },
  {
   "cell_type": "code",
   "execution_count": 40,
   "metadata": {},
   "outputs": [],
   "source": [
    "#new_test_data_list/test_data_list to small_test_data_list\n",
    "\n",
    "t = 0\n",
    "small_list = []\n",
    "small_test_data_list = []\n",
    "for u in new_test_data_list:\n",
    "    if t < 21:\n",
    "        small_list.append(u)\n",
    "        t += 1\n",
    "    else:\n",
    "        small_test_data_list.append(reduce(lambda a, b: a + b, small_list))\n",
    "        small_list = []\n",
    "        t = 1\n",
    "\n",
    "small_test_data_list.append(reduce(lambda a, b: a + b, small_list))\n",
    "#small_test_data_list[5]\n",
    "\n",
    "#***********************************\n",
    "\n",
    "#new_train_data_list/train_data_list to small_train_data_list\n",
    "\n",
    "t = 0\n",
    "small_list = []\n",
    "small_train_data_list = []\n",
    "for u in new_train_data_list:\n",
    "    if t < 21:\n",
    "        small_list.append(u)\n",
    "        t += 1\n",
    "    else:\n",
    "        small_train_data_list.append(reduce(lambda a, b: a + b, small_list))\n",
    "        small_list = []\n",
    "        t = 1\n",
    "small_train_data_list.append(reduce(lambda a, b: a + b, small_list))\n",
    "#***********************************"
   ]
  },
  {
   "cell_type": "code",
   "execution_count": null,
   "metadata": {},
   "outputs": [],
   "source": [
    "print(len(small_test_data_list))\n",
    "print(len(small_train_data_list))"
   ]
  },
  {
   "cell_type": "code",
   "execution_count": 42,
   "metadata": {
    "collapsed": true
   },
   "outputs": [],
   "source": [
    "#tokenizer.fit_on_texts(new_train_data_list)\n",
    "#tokenizer.fit_on_texts(small_train_data_list)\n",
    "tokenizer.fit_on_texts(train_data_list)"
   ]
  },
  {
   "cell_type": "code",
   "execution_count": 43,
   "metadata": {
    "collapsed": true
   },
   "outputs": [],
   "source": [
    "train_data_matrix = tokenizer.texts_to_matrix(small_train_data_list)\n",
    "train_answer_matrix = tokenizer.texts_to_matrix(new_train_answer_list)\n",
    "train_options_matrix = tokenizer.texts_to_matrix(new_train_option_list)"
   ]
  },
  {
   "cell_type": "code",
   "execution_count": 44,
   "metadata": {
    "collapsed": true
   },
   "outputs": [],
   "source": [
    "test_data_matrix = tokenizer.texts_to_matrix(small_test_data_list)\n",
    "test_answer_matrix = tokenizer.texts_to_matrix(new_test_answer_list)\n",
    "test_options_matrix = tokenizer.texts_to_matrix(new_test_option_list)"
   ]
  },
  {
   "cell_type": "code",
   "execution_count": 45,
   "metadata": {},
   "outputs": [],
   "source": [
    "#train_data_matrix = tokenizer.texts_to_matrix(train_data_list)\n",
    "\n",
    "#I WAS HERE"
   ]
  },
  {
   "cell_type": "code",
   "execution_count": 46,
   "metadata": {
    "collapsed": true
   },
   "outputs": [],
   "source": [
    "#train_options_matrix = tokenizer.texts_to_matrix(train_option_list)"
   ]
  },
  {
   "cell_type": "code",
   "execution_count": 47,
   "metadata": {},
   "outputs": [],
   "source": [
    "#train_answer_matrix = tokenizer.texts_to_matrix(train_answer_list)"
   ]
  },
  {
   "cell_type": "code",
   "execution_count": 48,
   "metadata": {
    "collapsed": true
   },
   "outputs": [],
   "source": [
    "#test_data_matrix = tokenizer.texts_to_matrix(test_data_list)\n",
    "#test_options_matrix = tokenizer.texts_to_matrix(test_option_list)\n",
    "#test_answer_matrix = tokenizer.texts_to_matrix(test_answer_list)\n",
    "\n",
    "#FINISHED"
   ]
  },
  {
   "cell_type": "code",
   "execution_count": 49,
   "metadata": {
    "collapsed": true
   },
   "outputs": [],
   "source": [
    "#file_Name = \"train_data_matrix\"\n",
    "#fileObject = open(file_Name, 'wb')\n",
    "#pickle.dump(a,fileObject)\n",
    "#fileObject.close()\n",
    "\n",
    "#file_Name = \"train_answer_matrix\"\n",
    "#fileObject = open(file_Name, 'wb')\n",
    "#pickle.dump(a,fileObject)\n",
    "#fileObject.close()\n",
    "\n",
    "#file_Name = \"train_options_matrix\"\n",
    "#fileObject = open(file_Name, 'wb')\n",
    "#pickle.dump(a,fileObject)\n",
    "#fileObject.close()"
   ]
  },
  {
   "cell_type": "code",
   "execution_count": 50,
   "metadata": {
    "collapsed": true
   },
   "outputs": [],
   "source": [
    "#valid_data_matrix = tokenizer.texts_to_matrix(valid_data_list)\n",
    "#valid_options_matrix = tokenizer.texts_to_matrix(valid_option_list)\n",
    "#valid_answer_matrix = tokenizer.texts_to_matrix(valid_answer_list)\n",
    "\n",
    "#FINISHED"
   ]
  },
  {
   "cell_type": "code",
   "execution_count": 51,
   "metadata": {
    "collapsed": true
   },
   "outputs": [],
   "source": [
    "#*****************************************\n",
    "\n",
    "#file_Name = \"test_data_matrix\"\n",
    "#fileObject = open(file_Name, 'wb')\n",
    "#pickle.dump(a,fileObject)\n",
    "#fileObject.close()\n",
    "\n",
    "#file_Name = \"test_data_matrix\"\n",
    "#fileObject = open(file_Name, 'wb')\n",
    "#pickle.dump(a,fileObject)\n",
    "#fileObject.close()\n",
    "\n",
    "#file_Name = \"test_data_matrix\"\n",
    "#fileObject = open(file_Name, 'wb')\n",
    "#pickle.dump(a,fileObject)\n",
    "#fileObject.close()\n",
    "\n",
    "#*****************************************\n",
    "\n",
    "#file_Name = \"valid_data_matrix\"\n",
    "#fileObject = open(file_Name, 'wb')\n",
    "#pickle.dump(a,fileObject)\n",
    "#fileObject.close()\n",
    "\n",
    "#file_Name = \"valid_data_matrix\"\n",
    "#fileObject = open(file_Name, 'wb')\n",
    "#pickle.dump(a,fileObject)\n",
    "#fileObject.close()\n",
    "\n",
    "#file_Name = \"valid_data_matrix\"\n",
    "#fileObject = open(file_Name, 'wb')\n",
    "#pickle.dump(a,fileObject)\n",
    "#fileObject.close()\n",
    "\n",
    "#FINISHED"
   ]
  },
  {
   "cell_type": "code",
   "execution_count": 52,
   "metadata": {
    "collapsed": true
   },
   "outputs": [],
   "source": [
    "#file_Name = \"tokenizer\"\n",
    "#fileObject = open(file_Name, 'wb')\n",
    "#pickle.dump(tokenizer,fileObject)\n",
    "#fileObject.close()"
   ]
  },
  {
   "cell_type": "code",
   "execution_count": 53,
   "metadata": {},
   "outputs": [],
   "source": [
    "#file_Name = \"\"\n",
    "#fileObject = open(file_Name, 'rb')\n",
    "#b = pickle.load(fileObject)\n",
    "#b #prints the b (what you wanted to open)"
   ]
  },
  {
   "cell_type": "markdown",
   "metadata": {},
   "source": [
    "# Creating model"
   ]
  },
  {
   "cell_type": "code",
   "execution_count": 54,
   "metadata": {
    "collapsed": true
   },
   "outputs": [],
   "source": [
    "best_train_answer_matrix = np.expand_dims(train_answer_matrix, -1)\n",
    "best_test_answer_matrix = np.expand_dims(test_answer_matrix, -1)"
   ]
  },
  {
   "cell_type": "code",
   "execution_count": 55,
   "metadata": {
    "scrolled": false
   },
   "outputs": [
    {
     "name": "stderr",
     "output_type": "stream",
     "text": [
      "/Users/fridahammarberg/anaconda/lib/python3.6/site-packages/ipykernel_launcher.py:26: UserWarning: The `Merge` layer is deprecated and will be removed after 08/2017. Use instead layers from `keras.layers.merge`, e.g. `add`, `concatenate`, etc.\n",
      "/Users/fridahammarberg/anaconda/lib/python3.6/site-packages/ipykernel_launcher.py:36: UserWarning: The `Merge` layer is deprecated and will be removed after 08/2017. Use instead layers from `keras.layers.merge`, e.g. `add`, `concatenate`, etc.\n",
      "/Users/fridahammarberg/anaconda/lib/python3.6/site-packages/ipykernel_launcher.py:42: UserWarning: The `Merge` layer is deprecated and will be removed after 08/2017. Use instead layers from `keras.layers.merge`, e.g. `add`, `concatenate`, etc.\n",
      "/Users/fridahammarberg/anaconda/lib/python3.6/site-packages/keras/models.py:939: UserWarning: The `nb_epoch` argument in `fit` has been renamed `epochs`.\n",
      "  warnings.warn('The `nb_epoch` argument in `fit` '\n"
     ]
    },
    {
     "ename": "ValueError",
     "evalue": "Error when checking input: expected embedding_1_input to have shape (None, 729) but got array with shape (80, 42461)",
     "output_type": "error",
     "traceback": [
      "\u001b[0;31m---------------------------------------------------------------------------\u001b[0m",
      "\u001b[0;31mValueError\u001b[0m                                Traceback (most recent call last)",
      "\u001b[0;32m<ipython-input-55-6d38ad487df3>\u001b[0m in \u001b[0;36m<module>\u001b[0;34m()\u001b[0m\n\u001b[1;32m     52\u001b[0m \u001b[0;34m\u001b[0m\u001b[0m\n\u001b[1;32m     53\u001b[0m prediction.fit([train_data_matrix, train_options_matrix, train_data_matrix], best_train_answer_matrix, batch_size=BATCH_SIZE, \n\u001b[0;32m---> 54\u001b[0;31m            nb_epoch=EPOCHS_SIZE, validation_data=([test_data_matrix, test_options_matrix, test_data_matrix], best_test_answer_matrix))\n\u001b[0m\u001b[1;32m     55\u001b[0m \u001b[0;34m\u001b[0m\u001b[0m\n\u001b[1;32m     56\u001b[0m \u001b[0;31m#Notes: dot_axis, concat _axis? Permute?\u001b[0m\u001b[0;34m\u001b[0m\u001b[0;34m\u001b[0m\u001b[0m\n",
      "\u001b[0;32m/Users/fridahammarberg/anaconda/lib/python3.6/site-packages/keras/models.py\u001b[0m in \u001b[0;36mfit\u001b[0;34m(self, x, y, batch_size, epochs, verbose, callbacks, validation_split, validation_data, shuffle, class_weight, sample_weight, initial_epoch, steps_per_epoch, validation_steps, **kwargs)\u001b[0m\n\u001b[1;32m    958\u001b[0m                               \u001b[0minitial_epoch\u001b[0m\u001b[0;34m=\u001b[0m\u001b[0minitial_epoch\u001b[0m\u001b[0;34m,\u001b[0m\u001b[0;34m\u001b[0m\u001b[0m\n\u001b[1;32m    959\u001b[0m                               \u001b[0msteps_per_epoch\u001b[0m\u001b[0;34m=\u001b[0m\u001b[0msteps_per_epoch\u001b[0m\u001b[0;34m,\u001b[0m\u001b[0;34m\u001b[0m\u001b[0m\n\u001b[0;32m--> 960\u001b[0;31m                               validation_steps=validation_steps)\n\u001b[0m\u001b[1;32m    961\u001b[0m \u001b[0;34m\u001b[0m\u001b[0m\n\u001b[1;32m    962\u001b[0m     def evaluate(self, x, y, batch_size=32, verbose=1,\n",
      "\u001b[0;32m/Users/fridahammarberg/anaconda/lib/python3.6/site-packages/keras/engine/training.py\u001b[0m in \u001b[0;36mfit\u001b[0;34m(self, x, y, batch_size, epochs, verbose, callbacks, validation_split, validation_data, shuffle, class_weight, sample_weight, initial_epoch, steps_per_epoch, validation_steps, **kwargs)\u001b[0m\n\u001b[1;32m   1579\u001b[0m             \u001b[0mclass_weight\u001b[0m\u001b[0;34m=\u001b[0m\u001b[0mclass_weight\u001b[0m\u001b[0;34m,\u001b[0m\u001b[0;34m\u001b[0m\u001b[0m\n\u001b[1;32m   1580\u001b[0m             \u001b[0mcheck_batch_axis\u001b[0m\u001b[0;34m=\u001b[0m\u001b[0;32mFalse\u001b[0m\u001b[0;34m,\u001b[0m\u001b[0;34m\u001b[0m\u001b[0m\n\u001b[0;32m-> 1581\u001b[0;31m             batch_size=batch_size)\n\u001b[0m\u001b[1;32m   1582\u001b[0m         \u001b[0;31m# Prepare validation data.\u001b[0m\u001b[0;34m\u001b[0m\u001b[0;34m\u001b[0m\u001b[0m\n\u001b[1;32m   1583\u001b[0m         \u001b[0mdo_validation\u001b[0m \u001b[0;34m=\u001b[0m \u001b[0;32mFalse\u001b[0m\u001b[0;34m\u001b[0m\u001b[0m\n",
      "\u001b[0;32m/Users/fridahammarberg/anaconda/lib/python3.6/site-packages/keras/engine/training.py\u001b[0m in \u001b[0;36m_standardize_user_data\u001b[0;34m(self, x, y, sample_weight, class_weight, check_batch_axis, batch_size)\u001b[0m\n\u001b[1;32m   1412\u001b[0m                                     \u001b[0mself\u001b[0m\u001b[0;34m.\u001b[0m\u001b[0m_feed_input_shapes\u001b[0m\u001b[0;34m,\u001b[0m\u001b[0;34m\u001b[0m\u001b[0m\n\u001b[1;32m   1413\u001b[0m                                     \u001b[0mcheck_batch_axis\u001b[0m\u001b[0;34m=\u001b[0m\u001b[0;32mFalse\u001b[0m\u001b[0;34m,\u001b[0m\u001b[0;34m\u001b[0m\u001b[0m\n\u001b[0;32m-> 1414\u001b[0;31m                                     exception_prefix='input')\n\u001b[0m\u001b[1;32m   1415\u001b[0m         y = _standardize_input_data(y, self._feed_output_names,\n\u001b[1;32m   1416\u001b[0m                                     \u001b[0moutput_shapes\u001b[0m\u001b[0;34m,\u001b[0m\u001b[0;34m\u001b[0m\u001b[0m\n",
      "\u001b[0;32m/Users/fridahammarberg/anaconda/lib/python3.6/site-packages/keras/engine/training.py\u001b[0m in \u001b[0;36m_standardize_input_data\u001b[0;34m(data, names, shapes, check_batch_axis, exception_prefix)\u001b[0m\n\u001b[1;32m    151\u001b[0m                             \u001b[0;34m' to have shape '\u001b[0m \u001b[0;34m+\u001b[0m \u001b[0mstr\u001b[0m\u001b[0;34m(\u001b[0m\u001b[0mshapes\u001b[0m\u001b[0;34m[\u001b[0m\u001b[0mi\u001b[0m\u001b[0;34m]\u001b[0m\u001b[0;34m)\u001b[0m \u001b[0;34m+\u001b[0m\u001b[0;34m\u001b[0m\u001b[0m\n\u001b[1;32m    152\u001b[0m                             \u001b[0;34m' but got array with shape '\u001b[0m \u001b[0;34m+\u001b[0m\u001b[0;34m\u001b[0m\u001b[0m\n\u001b[0;32m--> 153\u001b[0;31m                             str(array.shape))\n\u001b[0m\u001b[1;32m    154\u001b[0m     \u001b[0;32mreturn\u001b[0m \u001b[0marrays\u001b[0m\u001b[0;34m\u001b[0m\u001b[0m\n\u001b[1;32m    155\u001b[0m \u001b[0;34m\u001b[0m\u001b[0m\n",
      "\u001b[0;31mValueError\u001b[0m: Error when checking input: expected embedding_1_input to have shape (None, 729) but got array with shape (80, 42461)"
     ]
    }
   ],
   "source": [
    "from keras.layers import Dense, Merge, Dropout, Permute, Activation\n",
    "from keras.layers.embeddings import Embedding\n",
    "from keras.layers.recurrent import LSTM\n",
    "from keras.models import Sequential\n",
    "\n",
    "# Contants\n",
    "VOCABULARY_SIZE = 729 #53628 ## estimate from the goldilocks paper\n",
    "HIDDEN_LAYER_SIZE = 64  ## 10 neurons for 10 options\n",
    "LSTM_OUTPUT_SIZE=10 #TODO: change LSTM SIZE\n",
    "BATCH_SIZE = 32\n",
    "EPOCHS_SIZE = 50\n",
    "\n",
    "#Initial Embedding matrices A, B for story and options\n",
    "#Each sentence is taken as an n-dimensional vector of float64, with n=VOCABULARY-SIZE\n",
    "#memory_encoder encodes lines 1-21 from story, answer encoder\n",
    "memory_encoder = Sequential()\n",
    "memory_encoder.add(Embedding(input_dim = VOCABULARY_SIZE, output_dim = HIDDEN_LAYER_SIZE,input_length = 729)) #input length = 21\n",
    "memory_encoder.add(Dropout(0.3))\n",
    "\n",
    "option_encoder = Sequential()\n",
    "option_encoder.add(Embedding(input_dim = VOCABULARY_SIZE, output_dim = HIDDEN_LAYER_SIZE,input_length = 729)) #input length = 1\n",
    "option_encoder.add(Dropout(0.3))\n",
    "\n",
    "#Dot product between answer and question encoders, produces internal state \"u\"\n",
    "match = Sequential()\n",
    "match.add(Merge([memory_encoder, option_encoder], mode=\"dot\", dot_axes=[2, 2]))\n",
    "\n",
    "#Story embedded with matrix C to produce output vectors\n",
    "output_memory_encoder = Sequential()\n",
    "output_memory_encoder.add(Embedding(input_dim=VOCABULARY_SIZE,output_dim = 729,input_length = 729)) #input length = 21\n",
    "output_memory_encoder.add(Dropout(0.3))\n",
    "\n",
    "# Response vector, obtained by summing output vectors\n",
    "# Output dim: (None, 10 options, 21)\n",
    "response_vector = Sequential()\n",
    "response_vector.add(Merge([match, output_memory_encoder], mode=\"sum\"))\n",
    "response_vector.add(Permute((2, 1)))\n",
    "\n",
    "#Final embedding for prediction, weighting matrix W\n",
    "#combine response and question vectors and do backpropagation\n",
    "prediction = Sequential()\n",
    "prediction.add(Merge([response_vector, option_encoder], mode=\"concat\", concat_axis=-1))\n",
    "#prediction.add(LSTM(LSTM_OUTPUT_SIZE)) #for soft memory attention mechanism\n",
    "prediction.add(Dropout(0.3))\n",
    "prediction.add(Dense(10)) #for regularization\n",
    "prediction.add(Activation(\"softmax\")) #for softmax \n",
    "\n",
    "prediction.compile(optimizer=\"adam\", loss=\"sparse_categorical_crossentropy\", metrics=[\"accuracy\"])\n",
    "\n",
    "#prediction.fit([Xs_train, Xq_train, Xs_train], Y_train, batch_size=BATCH_SIZE, \n",
    "#           nb_epoch=NBR_EPOCHS, validation_data=([Xs_test, Xq_test, Xs_test], Y_test))\n",
    "\n",
    "prediction.fit([train_data_matrix, train_options_matrix, train_data_matrix], best_train_answer_matrix, batch_size=BATCH_SIZE, \n",
    "           nb_epoch=EPOCHS_SIZE, validation_data=([test_data_matrix, test_options_matrix, test_data_matrix], best_test_answer_matrix))\n",
    "\n",
    "#Notes: dot_axis, concat _axis? Permute? \n",
    "\n",
    "\n",
    "#Doubts: binary_crossentropy instead of categorical crossentropy for loss function"
   ]
  },
  {
   "cell_type": "code",
   "execution_count": null,
   "metadata": {},
   "outputs": [],
   "source": [
    "print(train_data_matrix.shape)\n",
    "print(train_options_matrix.shape)\n",
    "print(train_answer_matrix.shape)"
   ]
  },
  {
   "cell_type": "code",
   "execution_count": null,
   "metadata": {},
   "outputs": [],
   "source": [
    "from keras.layers import Dense, Merge, Dropout, Permute, Activation\n",
    "from keras.layers.embeddings import Embedding\n",
    "from keras.layers.recurrent import RNN\n",
    "from keras.models import Sequential\n",
    "\n",
    "# Contants\n",
    "VOCABULARY_SIZE = 729 #53628 ## estimate from the goldilocks paper\n",
    "HIDDEN_LAYER_SIZE = 10  ## 10 neurons for 10 options\n",
    "BATCH_SIZE = 20 #32\n",
    "EPOCHS_SIZE = 5\n",
    "\n",
    "#Initial Embedding matrices A, B for story and options\n",
    "#Each sentence is taken as an n-dimensional vector of float64, with n=VOCABULARY-SIZE\n",
    "#memory_encoder encodes lines 1-21 from story, answer encoder\n",
    "memory_encoder = Sequential()\n",
    "memory_encoder.add(Embedding(input_dim = VOCABULARY_SIZE, output_dim = HIDDEN_LAYER_SIZE,input_length=729)) #21\n",
    "#memory_encoder.add(RNN(cell, input_dim=HIDDEN_LAYER_SIZE, input_lenght=21, return_sequences=False) )\n",
    "memory_encoder.add(Dropout(0.3))\n",
    "\n",
    "answer_encoder = Sequential()\n",
    "answer_encoder.add(Embedding(input_dim = VOCABULARY_SIZE, output_dim = HIDDEN_LAYER_SIZE,input_length=729)) #1\n",
    "answer_encoder.add(Dropout(0.3))\n",
    "\n",
    "#Dot product between answer and question encoders, produces internal state \"u\"\n",
    "prediction = Sequential()\n",
    "prediction.add(Merge([memory_encoder, answer_encoder], mode ='dot'))\n",
    "prediction.add(Dropout(0.3))\n",
    "prediction.add(Dense(10)) #for regularization\n",
    "prediction.add(Activation('softmax')) #for softmax \n",
    "\n",
    "#Optimizer, loss function, metrics setting\n",
    "prediction.compile(optimizer='adam', loss='sparse_categorical_crossentropy', metrics=['accuracy'])\n",
    "\n",
    "#training\n",
    "prediction.fit([train_data_matrix, train_options_matrix], best_train_answer_matrix, batch_size=BATCH_SIZE, \n",
    "           nb_epoch=EPOCHS_SIZE, validation_data=([test_data_matrix, test_options_matrix], best_test_answer_matrix))\n",
    "\n",
    "#scores = prediction.evaluate([test_data_matrix, test_options_matrix], best_test_answer_matrix)\n",
    "#print(\"%s: %.2f%%\" % (prediction.metrics_names[1], scores[1]*100))"
   ]
  },
  {
   "cell_type": "code",
   "execution_count": null,
   "metadata": {
    "collapsed": true
   },
   "outputs": [],
   "source": [
    "#Save keras model\n",
    "prediction.save('model1.h5')"
   ]
  },
  {
   "cell_type": "code",
   "execution_count": null,
   "metadata": {
    "collapsed": true
   },
   "outputs": [],
   "source": [
    "#print(\"%s: %.2f%%\" % (model.metrics_names[1], scores[1]*100))"
   ]
  },
  {
   "cell_type": "code",
   "execution_count": null,
   "metadata": {},
   "outputs": [],
   "source": [
    "#np.set_printoptions(threshold=30)\n",
    "\n",
    "#splitted_train_data_matrix=np.vsplit(train_data_matrix,80)\n",
    "#splitted_train_options_matrix=np.vsplit(train_options_matrix,80)\n",
    "#splitted_train_answer_matrix=np.vsplit(train_answer_matrix,80)\n",
    "#print(splitted_train_data_matrix[0])\n",
    "#print(splitted_train_data_matrix[0].shape)\n",
    "#print(splitted_train_options_matrix[0].shape)\n",
    "#print(splitted_train_answer_matrix[0].shape)\n",
    "#print(\"**\")\n",
    "#print(splitted_train_answer_matrix[0].shape[1])\n"
   ]
  },
  {
   "cell_type": "code",
   "execution_count": null,
   "metadata": {},
   "outputs": [],
   "source": [
    "#D3_splitted_train_data_matrix=np.asarray(splitted_train_data_matrix)\n",
    "#print(D3_splitted_train_data_matrix.shape)\n",
    "#D3_splitted_train_options_matrix=np.asarray(splitted_train_options_matrix)\n",
    "#print(D3_splitted_train_options_matrix.shape)\n",
    "#D3_splitted_train_answer_matrix=np.asarray(splitted_train_answer_matrix)\n",
    "#print(D3_splitted_train_answer_matrix.shape)"
   ]
  },
  {
   "cell_type": "code",
   "execution_count": null,
   "metadata": {
    "collapsed": true
   },
   "outputs": [],
   "source": []
  }
 ],
 "metadata": {
  "kernelspec": {
   "display_name": "Python 3",
   "language": "python",
   "name": "python3"
  },
  "language_info": {
   "codemirror_mode": {
    "name": "ipython",
    "version": 3
   },
   "file_extension": ".py",
   "mimetype": "text/x-python",
   "name": "python",
   "nbconvert_exporter": "python",
   "pygments_lexer": "ipython3",
   "version": "3.6.1"
  }
 },
 "nbformat": 4,
 "nbformat_minor": 2
}
