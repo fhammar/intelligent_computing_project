{
 "cells": [
  {
   "cell_type": "markdown",
   "metadata": {
    "collapsed": true
   },
   "source": [
    "## TODO\n",
    "\n",
    "1. find out how to fit the tokenized thing in the model\n",
    "2. put the code in a python script so that we can run it on the competition day\n",
    "3. how to read the answer.evaluate"
   ]
  },
  {
   "cell_type": "markdown",
   "metadata": {},
   "source": [
    "# Insert data and tokenize it"
   ]
  },
  {
   "cell_type": "code",
   "execution_count": 1,
   "metadata": {
    "collapsed": true
   },
   "outputs": [],
   "source": [
    "#To run this notebook, you need to have the folder \"AI_Course_Final\" (downloaded from Kaggle) \n",
    "#in the parent folder of the git-repository-folder"
   ]
  },
  {
   "cell_type": "code",
   "execution_count": 2,
   "metadata": {
    "collapsed": true
   },
   "outputs": [],
   "source": [
    "%load_ext autoreload\n",
    "%autoreload 2"
   ]
  },
  {
   "cell_type": "code",
   "execution_count": 27,
   "metadata": {},
   "outputs": [],
   "source": [
    "import pandas as pd\n",
    "from keras.preprocessing.text import Tokenizer\n",
    "import copy\n",
    "import os\n",
    "from functools import reduce"
   ]
  },
  {
   "cell_type": "code",
   "execution_count": 4,
   "metadata": {},
   "outputs": [
    {
     "name": "stdout",
     "output_type": "stream",
     "text": [
      "/Users/fridahammarberg/Documents/NTHU/intelligent_computing/project/intelligent_computing_project\n",
      "/Users/fridahammarberg/Documents/NTHU/intelligent_computing/project\n",
      "/Users/fridahammarberg/Documents/NTHU/intelligent_computing/project/AI_Course_Final/CBTest/data/cbt_test.txt\n"
     ]
    }
   ],
   "source": [
    "current = os.getcwd()\n",
    "print(current) # displays our current directory\n",
    "parent = os.path.abspath(os.path.join(current, os.pardir)) \n",
    "print(parent) # displays the parent directory\n",
    "path = parent + \"/AI_Course_Final/CBTest/data/cbt_test.txt\"\n",
    "print(path) \n",
    "os.path.exists(path)\n",
    "# Check if the wanted path exist. Must be True!!\n",
    "test = pd.read_csv(path, sep='\\n')"
   ]
  },
  {
   "cell_type": "code",
   "execution_count": 5,
   "metadata": {
    "collapsed": true
   },
   "outputs": [],
   "source": [
    "path_CN_test = parent + \"/AI_Course_Final/CBTest/data/cbtest_CN_test_2500ex.txt\"\n",
    "path_CN_train = parent + \"/AI_Course_Final/CBTest/data/cbtest_CN_train.txt\"\n",
    "path_CN_valid = parent + \"/AI_Course_Final/CBTest/data/cbtest_CN_valid_2000ex.txt\"\n",
    "\n",
    "path_NE_test = parent + \"/AI_Course_Final/CBTest/data/cbtest_NE_test_2500ex.txt\"\n",
    "path_NE_train = parent + \"/AI_Course_Final/CBTest/data/cbtest_NE_train.txt\"\n",
    "path_NE_valid = parent + \"/AI_Course_Final/CBTest/data/cbtest_NE_valid_2000ex.txt\"\n",
    "\n",
    "path_P_test = parent + \"/AI_Course_Final/CBTest/data/cbtest_P_test_2500ex.txt\"\n",
    "path_P_train = parent + \"/AI_Course_Final/CBTest/data/cbtest_P_train.txt\"\n",
    "path_P_valid = parent + \"/AI_Course_Final/CBTest/data/cbtest_P_valid_2000ex.txt\"\n",
    "\n",
    "path_V_test = parent + \"/AI_Course_Final/CBTest/data/cbtest_V_test_2500ex.txt\"\n",
    "path_V_train = parent + \"/AI_Course_Final/CBTest/data/cbtest_V_train.txt\"\n",
    "path_V_valid = parent + \"/AI_Course_Final/CBTest/data/cbtest_V_valid_2000ex.txt\""
   ]
  },
  {
   "cell_type": "code",
   "execution_count": 6,
   "metadata": {
    "collapsed": true
   },
   "outputs": [],
   "source": [
    "pd.set_option('display.max_colwidth', -1)\n",
    "\n",
    "CN_test = pd.read_csv(path_CN_test, sep='\\n', delimiter='\\t', header=None, names=['sentence','answer','empty','options'])\n",
    "CN_train = pd.read_csv(path_CN_train, sep='\\n', delimiter='\\t', header=None, names=['sentence','answer','empty','options'])\n",
    "CN_valid = pd.read_csv(path_CN_valid, sep='\\n', delimiter='\\t', header=None, names=['sentence','answer','empty','options'])\n",
    "\n",
    "NE_test = pd.read_csv(path_NE_test, sep='\\n', delimiter='\\t', header=None, names=['sentence','answer','empty','options'])\n",
    "NE_train = pd.read_csv(path_NE_train, sep='\\n', delimiter='\\t', header=None, names=['sentence','answer','empty','options'])\n",
    "NE_valid = pd.read_csv(path_NE_valid, sep='\\n', delimiter='\\t', header=None, names=['sentence','answer','empty','options'])\n",
    "\n",
    "P_test = pd.read_csv(path_P_test, sep='\\n', delimiter='\\t', header=None, names=['sentence','answer','empty','options'])\n",
    "P_train = pd.read_csv(path_P_train, sep='\\n', delimiter='\\t', header=None, names=['sentence','answer','empty','options'])\n",
    "P_valid = pd.read_csv(path_P_test, sep='\\n', delimiter='\\t', header=None, names=['sentence','answer','empty','options'])\n",
    "\n",
    "V_test = pd.read_csv(path_V_test, sep='\\n', delimiter='\\t', header=None, names=['sentence','answer','empty','options'])\n",
    "V_train = pd.read_csv(path_V_train, sep='\\n', delimiter='\\t', header=None, names=['sentence','answer','empty','options'])\n",
    "V_valid = pd.read_csv(path_V_valid, sep='\\n', delimiter='\\t', header=None, names=['sentence','answer','empty','options'])"
   ]
  },
  {
   "cell_type": "code",
   "execution_count": 7,
   "metadata": {
    "collapsed": true
   },
   "outputs": [],
   "source": [
    "test_df = pd.concat([CN_test, NE_test, P_test, V_test])\n",
    "\n",
    "train_df = pd.concat([CN_train, NE_train, P_train, V_train])\n",
    "\n",
    "valid_df = pd.concat([CN_valid, NE_valid, P_valid, V_valid])"
   ]
  },
  {
   "cell_type": "code",
   "execution_count": 8,
   "metadata": {
    "collapsed": true
   },
   "outputs": [],
   "source": [
    "test_data = test_df[['sentence']].copy()\n",
    "train_data = train_df[['sentence']].copy()\n",
    "valid_data = valid_df[['sentence']].copy()"
   ]
  },
  {
   "cell_type": "code",
   "execution_count": 9,
   "metadata": {
    "collapsed": true
   },
   "outputs": [],
   "source": [
    "# delete the nbrs in the beginning of each sentence\n",
    "test_data['sentence'] = test_data['sentence'].map(lambda x: x.lstrip('1234567890'))\n",
    "train_data['sentence'] = train_data['sentence'].map(lambda x: x.lstrip('1234567890'))\n",
    "valid_data['sentence'] = valid_data['sentence'].map(lambda x: x.lstrip('1234567890'))"
   ]
  },
  {
   "cell_type": "code",
   "execution_count": 10,
   "metadata": {
    "collapsed": true
   },
   "outputs": [],
   "source": [
    "test_answer = test_df[['answer']].copy().dropna(axis=0, how='any').reset_index(drop=True)\n",
    "train_answer = train_df[['answer']].copy().dropna(axis=0, how='any').reset_index(drop=True)\n",
    "valid_answer = valid_df[['answer']].copy().dropna(axis=0, how='any').reset_index(drop=True)"
   ]
  },
  {
   "cell_type": "code",
   "execution_count": 11,
   "metadata": {
    "collapsed": true
   },
   "outputs": [],
   "source": [
    "test_option = test_df[['options']].copy().dropna(axis=0, how='any').reset_index(drop=True)\n",
    "train_option = train_df[['options']].copy().dropna(axis=0, how='any').reset_index(drop=True)\n",
    "valid_option = valid_df[['options']].copy().dropna(axis=0, how='any').reset_index(drop=True)"
   ]
  },
  {
   "cell_type": "code",
   "execution_count": 12,
   "metadata": {
    "collapsed": true
   },
   "outputs": [],
   "source": [
    "test_option_list = []\n",
    "k = 0\n",
    "for x in test_option.iterrows():\n",
    "    string_opt = test_option.values[k][0].replace(\"|\", \" \")\n",
    "    test_option_list.append(string_opt)\n",
    "    k += 1\n",
    "    \n",
    "test_option_df = pd.DataFrame(test_option_list, columns=['options'])\n",
    "\n",
    "\n",
    "train_option_list = []\n",
    "k = 0\n",
    "for x in train_option.iterrows():\n",
    "    string_opt = train_option.values[k][0].replace(\"|\", \" \")\n",
    "    train_option_list.append(string_opt)\n",
    "    k += 1\n",
    "    \n",
    "train_option_df = pd.DataFrame(train_option_list, columns=['options'])\n",
    "\n",
    "\n",
    "valid_option_list = []\n",
    "k = 0\n",
    "for x in valid_option.iterrows():\n",
    "    string_opt = valid_option.values[k][0].replace(\"|\", \" \")\n",
    "    valid_option_list.append(string_opt)\n",
    "    k += 1\n",
    "    \n",
    "valid_option_df = pd.DataFrame(valid_option_list, columns=['options'])"
   ]
  },
  {
   "cell_type": "code",
   "execution_count": 13,
   "metadata": {
    "collapsed": true
   },
   "outputs": [],
   "source": [
    "#print(len(test_data))\n",
    "#print(len(train_data))\n",
    "#print(len(valid_data))\n",
    "\n",
    "#print(len(test_answer))\n",
    "#print(len(train_answer))\n",
    "#print(len(valid_answer))\n",
    "\n",
    "#print(len(test_option_df))\n",
    "#print(len(train_option_df))\n",
    "#print(len(valid_option_df))\n",
    "\n",
    "\n",
    "#***\n",
    "\n",
    "\n",
    "#print(len(test_data_list))\n",
    "#print(len(train_data_list))\n",
    "#print(len(valid_data_list))\n",
    "\n",
    "#print(len(test_answer_list))\n",
    "#print(len(train_answer_list))\n",
    "#print(len(valid_answer_list))\n",
    "\n",
    "#print(len(test_option_list))\n",
    "#print(len(train_option_list))\n",
    "#print(len(valid_option_list))"
   ]
  },
  {
   "cell_type": "code",
   "execution_count": 14,
   "metadata": {
    "collapsed": true
   },
   "outputs": [],
   "source": [
    "test_data_list = test_data['sentence'].tolist()\n",
    "train_data_list = train_data['sentence'].tolist()\n",
    "valid_data_list = valid_data['sentence'].tolist()\n",
    "\n",
    "test_answer_list = test_answer['answer'].tolist()\n",
    "train_answer_list = train_answer['answer'].tolist()\n",
    "valid_answer_list = valid_answer['answer'].tolist()"
   ]
  },
  {
   "cell_type": "code",
   "execution_count": 15,
   "metadata": {
    "collapsed": true
   },
   "outputs": [],
   "source": [
    "n = 10\n",
    "new_test_data_list = copy.deepcopy(test_data_list[:21*2*n])\n",
    "new_test_answer_list = copy.deepcopy(test_answer_list[:2*n])\n",
    "new_test_option_list = copy.deepcopy(test_option_list[:2*n])"
   ]
  },
  {
   "cell_type": "code",
   "execution_count": 16,
   "metadata": {
    "collapsed": true
   },
   "outputs": [],
   "source": [
    "new_train_data_list = copy.deepcopy(train_data_list[:21*8*n])\n",
    "new_train_answer_list = copy.deepcopy(train_answer_list[:8*n])\n",
    "new_train_option_list = copy.deepcopy(train_option_list[:8*n])"
   ]
  },
  {
   "cell_type": "code",
   "execution_count": 113,
   "metadata": {},
   "outputs": [
    {
     "name": "stdout",
     "output_type": "stream",
     "text": [
      "train:\n",
      "80.0\n",
      "80\n",
      "80\n",
      "test:\n",
      "20.0\n",
      "20\n",
      "20\n"
     ]
    }
   ],
   "source": [
    "print('train:')\n",
    "print(len(new_train_data_list)/21)\n",
    "print(len(new_train_answer_list))\n",
    "print(len(new_train_option_list))\n",
    "print('test:')\n",
    "print(len(new_test_data_list)/21)\n",
    "print(len(new_test_answer_list ))\n",
    "print(len(new_test_option_list))"
   ]
  },
  {
   "cell_type": "code",
   "execution_count": 17,
   "metadata": {
    "collapsed": true
   },
   "outputs": [],
   "source": [
    "tokenizer = Tokenizer()"
   ]
  },
  {
   "cell_type": "code",
   "execution_count": 19,
   "metadata": {
    "collapsed": true
   },
   "outputs": [],
   "source": [
    "#tokenizer.fit_on_texts(test_data_list)\n",
    "#tokenizer.fit_on_texts(train_data_list)\n",
    "#tokenizer.fit_on_texts(valid_data_list)"
   ]
  },
  {
   "cell_type": "code",
   "execution_count": 83,
   "metadata": {},
   "outputs": [],
   "source": [
    "#new_test_data_list[20+21*5] #use this one to test so the result below is correct!"
   ]
  },
  {
   "cell_type": "code",
   "execution_count": 116,
   "metadata": {},
   "outputs": [],
   "source": [
    "#new_test_data_list/test_data_list to small_test_data_list\n",
    "\n",
    "t = 0\n",
    "small_list = []\n",
    "small_test_data_list = []\n",
    "for u in new_test_data_list:\n",
    "    if t < 21:\n",
    "        small_list.append(u)\n",
    "        t += 1\n",
    "    else:\n",
    "        small_test_data_list.append(reduce(lambda a, b: a + b, small_list))\n",
    "        small_list = []\n",
    "        t = 1\n",
    "\n",
    "small_test_data_list.append(reduce(lambda a, b: a + b, small_list))\n",
    "#small_test_data_list[5]\n",
    "\n",
    "#***********************************\n",
    "\n",
    "#new_train_data_list/train_data_list to small_train_data_list\n",
    "\n",
    "t = 0\n",
    "small_list = []\n",
    "small_train_data_list = []\n",
    "for u in new_train_data_list:\n",
    "    if t < 21:\n",
    "        small_list.append(u)\n",
    "        t += 1\n",
    "    else:\n",
    "        small_train_data_list.append(reduce(lambda a, b: a + b, small_list))\n",
    "        small_list = []\n",
    "        t = 1\n",
    "small_train_data_list.append(reduce(lambda a, b: a + b, small_list))\n",
    "#***********************************"
   ]
  },
  {
   "cell_type": "code",
   "execution_count": 117,
   "metadata": {},
   "outputs": [
    {
     "name": "stdout",
     "output_type": "stream",
     "text": [
      "20\n",
      "80\n"
     ]
    }
   ],
   "source": [
    "print(len(small_test_data_list))\n",
    "print(len(small_train_data_list))"
   ]
  },
  {
   "cell_type": "code",
   "execution_count": 118,
   "metadata": {
    "collapsed": true
   },
   "outputs": [],
   "source": [
    "#tokenizer.fit_on_texts(new_train_data_list)\n",
    "tokenizer.fit_on_texts(small_train_data_list)"
   ]
  },
  {
   "cell_type": "code",
   "execution_count": 119,
   "metadata": {
    "collapsed": true
   },
   "outputs": [],
   "source": [
    "train_data_matrix = tokenizer.texts_to_matrix(small_train_data_list)\n",
    "train_answer_matrix = tokenizer.texts_to_matrix(new_train_answer_list)\n",
    "train_options_matrix = tokenizer.texts_to_matrix(new_train_option_list)"
   ]
  },
  {
   "cell_type": "code",
   "execution_count": 120,
   "metadata": {
    "collapsed": true
   },
   "outputs": [],
   "source": [
    "test_data_matrix = tokenizer.texts_to_matrix(small_test_data_list)\n",
    "test_answer_matrix = tokenizer.texts_to_matrix(new_test_answer_list)\n",
    "test_options_matrix = tokenizer.texts_to_matrix(new_test_option_list)"
   ]
  },
  {
   "cell_type": "code",
   "execution_count": 121,
   "metadata": {},
   "outputs": [
    {
     "data": {
      "text/plain": [
       "array([[ 0.,  1.,  1., ...,  0.,  0.,  0.],\n",
       "       [ 0.,  1.,  1., ...,  0.,  0.,  0.],\n",
       "       [ 0.,  1.,  1., ...,  0.,  0.,  0.],\n",
       "       ..., \n",
       "       [ 0.,  1.,  1., ...,  0.,  0.,  0.],\n",
       "       [ 0.,  1.,  1., ...,  0.,  0.,  0.],\n",
       "       [ 0.,  1.,  1., ...,  0.,  0.,  0.]])"
      ]
     },
     "execution_count": 121,
     "metadata": {},
     "output_type": "execute_result"
    }
   ],
   "source": [
    "test_data_matrix"
   ]
  },
  {
   "cell_type": "code",
   "execution_count": 192,
   "metadata": {},
   "outputs": [
    {
     "data": {
      "text/plain": [
       "numpy.float64"
      ]
     },
     "execution_count": 192,
     "metadata": {},
     "output_type": "execute_result"
    }
   ],
   "source": [
    "type(test_data_matrix[0][0])"
   ]
  },
  {
   "cell_type": "code",
   "execution_count": null,
   "metadata": {
    "collapsed": true
   },
   "outputs": [],
   "source": []
  },
  {
   "cell_type": "code",
   "execution_count": null,
   "metadata": {
    "collapsed": true
   },
   "outputs": [],
   "source": []
  },
  {
   "cell_type": "code",
   "execution_count": 56,
   "metadata": {
    "collapsed": true
   },
   "outputs": [],
   "source": [
    "#train_data_matrix = tokenizer.texts_to_matrix(train_data_list)\n",
    "#train_options_matrix = tokenizer.texts_to_matrix(train_option_list)\n",
    "#train_answer_matrix = tokenizer.texts_to_matrix(train_answer_list)"
   ]
  },
  {
   "cell_type": "code",
   "execution_count": 57,
   "metadata": {
    "collapsed": true
   },
   "outputs": [],
   "source": [
    "#test_data_matrix = tokenizer.texts_to_matrix(test_data_list)\n",
    "#test_options_matrix = tokenizer.texts_to_matrix(test_option_list)\n",
    "#test_answer_matrix = tokenizer.texts_to_matrix(test_answer_list)"
   ]
  },
  {
   "cell_type": "code",
   "execution_count": 58,
   "metadata": {
    "collapsed": true
   },
   "outputs": [],
   "source": [
    "#valid_data_matrix = tokenizer.texts_to_matrix(valid_data_list)\n",
    "#valid_options_matrix = tokenizer.texts_to_matrix(valid_option_list)\n",
    "#valid_answer_matrix = tokenizer.texts_to_matrix(valid_answer_list)"
   ]
  },
  {
   "cell_type": "markdown",
   "metadata": {
    "collapsed": true
   },
   "source": [
    "# Use Pickle for store the matrices...\n",
    "\n",
    "https://pythontips.com/2013/08/02/what-is-pickle-in-python/"
   ]
  },
  {
   "cell_type": "code",
   "execution_count": null,
   "metadata": {
    "collapsed": true
   },
   "outputs": [],
   "source": []
  },
  {
   "cell_type": "code",
   "execution_count": null,
   "metadata": {
    "collapsed": true
   },
   "outputs": [],
   "source": []
  },
  {
   "cell_type": "markdown",
   "metadata": {},
   "source": [
    "# Creating model"
   ]
  },
  {
   "cell_type": "code",
   "execution_count": 194,
   "metadata": {
    "scrolled": false
   },
   "outputs": [
    {
     "name": "stderr",
     "output_type": "stream",
     "text": [
      "/Users/fridahammarberg/anaconda/lib/python3.6/site-packages/ipykernel_launcher.py:26: UserWarning: The `Merge` layer is deprecated and will be removed after 08/2017. Use instead layers from `keras.layers.merge`, e.g. `add`, `concatenate`, etc.\n",
      "/Users/fridahammarberg/anaconda/lib/python3.6/site-packages/ipykernel_launcher.py:36: UserWarning: The `Merge` layer is deprecated and will be removed after 08/2017. Use instead layers from `keras.layers.merge`, e.g. `add`, `concatenate`, etc.\n",
      "/Users/fridahammarberg/anaconda/lib/python3.6/site-packages/ipykernel_launcher.py:42: UserWarning: The `Merge` layer is deprecated and will be removed after 08/2017. Use instead layers from `keras.layers.merge`, e.g. `add`, `concatenate`, etc.\n",
      "/Users/fridahammarberg/anaconda/lib/python3.6/site-packages/keras/models.py:939: UserWarning: The `nb_epoch` argument in `fit` has been renamed `epochs`.\n",
      "  warnings.warn('The `nb_epoch` argument in `fit` '\n"
     ]
    },
    {
     "name": "stdout",
     "output_type": "stream",
     "text": [
      "Train on 80 samples, validate on 20 samples\n",
      "Epoch 1/50\n",
      "80/80 [==============================] - 10s 125ms/step - loss: 2.2619 - acc: 0.2810 - val_loss: 2.1766 - val_acc: 0.7211\n",
      "Epoch 2/50\n",
      "80/80 [==============================] - 4s 50ms/step - loss: 2.1573 - acc: 0.6614 - val_loss: 2.0041 - val_acc: 0.8792\n",
      "Epoch 3/50\n",
      "80/80 [==============================] - 4s 48ms/step - loss: 1.9844 - acc: 0.8488 - val_loss: 1.7531 - val_acc: 0.9975\n",
      "Epoch 4/50\n",
      "80/80 [==============================] - 4s 51ms/step - loss: 1.7329 - acc: 0.9626 - val_loss: 1.4247 - val_acc: 0.9990\n",
      "Epoch 5/50\n",
      "80/80 [==============================] - 4s 50ms/step - loss: 1.4090 - acc: 0.9939 - val_loss: 1.0401 - val_acc: 0.9991\n",
      "Epoch 6/50\n",
      "80/80 [==============================] - 4s 51ms/step - loss: 1.0285 - acc: 0.9970 - val_loss: 0.6530 - val_acc: 0.9997\n",
      "Epoch 7/50\n",
      "80/80 [==============================] - 4s 46ms/step - loss: 0.6537 - acc: 0.9983 - val_loss: 0.3380 - val_acc: 0.9997\n",
      "Epoch 8/50\n",
      "80/80 [==============================] - 4s 50ms/step - loss: 0.3488 - acc: 0.9986 - val_loss: 0.1432 - val_acc: 0.9997\n",
      "Epoch 9/50\n",
      "80/80 [==============================] - 4s 45ms/step - loss: 0.1583 - acc: 0.9986 - val_loss: 0.0535 - val_acc: 0.9997\n",
      "Epoch 10/50\n",
      "80/80 [==============================] - 4s 49ms/step - loss: 0.0684 - acc: 0.9986 - val_loss: 0.0203 - val_acc: 0.9997\n",
      "Epoch 11/50\n",
      "80/80 [==============================] - 4s 45ms/step - loss: 0.0315 - acc: 0.9986 - val_loss: 0.0089 - val_acc: 0.9997\n",
      "Epoch 12/50\n",
      "80/80 [==============================] - 4s 48ms/step - loss: 0.0181 - acc: 0.9986 - val_loss: 0.0050 - val_acc: 0.9997\n",
      "Epoch 13/50\n",
      "80/80 [==============================] - 3s 43ms/step - loss: 0.0128 - acc: 0.9986 - val_loss: 0.0035 - val_acc: 0.9997\n",
      "Epoch 14/50\n",
      "80/80 [==============================] - 3s 41ms/step - loss: 0.0108 - acc: 0.9986 - val_loss: 0.0029 - val_acc: 0.9997\n",
      "Epoch 15/50\n",
      "80/80 [==============================] - 4s 48ms/step - loss: 0.0100 - acc: 0.9986 - val_loss: 0.0027 - val_acc: 0.9997\n",
      "Epoch 16/50\n",
      "80/80 [==============================] - 4s 45ms/step - loss: 0.0094 - acc: 0.9986 - val_loss: 0.0025 - val_acc: 0.9997\n",
      "Epoch 17/50\n",
      "80/80 [==============================] - 3s 43ms/step - loss: 0.0093 - acc: 0.9986 - val_loss: 0.0024 - val_acc: 0.9997\n",
      "Epoch 18/50\n",
      "80/80 [==============================] - 3s 42ms/step - loss: 0.0088 - acc: 0.9986 - val_loss: 0.0023 - val_acc: 0.9997\n",
      "Epoch 19/50\n",
      "80/80 [==============================] - 3s 44ms/step - loss: 0.0085 - acc: 0.9986 - val_loss: 0.0023 - val_acc: 0.9997\n",
      "Epoch 20/50\n",
      "80/80 [==============================] - 3s 43ms/step - loss: 0.0081 - acc: 0.9986 - val_loss: 0.0022 - val_acc: 0.9997\n",
      "Epoch 21/50\n",
      "80/80 [==============================] - 4s 45ms/step - loss: 0.0079 - acc: 0.9986 - val_loss: 0.0021 - val_acc: 0.9997\n",
      "Epoch 22/50\n",
      "80/80 [==============================] - 3s 41ms/step - loss: 0.0076 - acc: 0.9986 - val_loss: 0.0021 - val_acc: 0.9997\n",
      "Epoch 23/50\n",
      "80/80 [==============================] - 3s 42ms/step - loss: 0.0073 - acc: 0.9986 - val_loss: 0.0020 - val_acc: 0.9997\n",
      "Epoch 24/50\n",
      "80/80 [==============================] - 3s 41ms/step - loss: 0.0072 - acc: 0.9986 - val_loss: 0.0020 - val_acc: 0.9997\n",
      "Epoch 25/50\n",
      "80/80 [==============================] - 4s 45ms/step - loss: 0.0072 - acc: 0.9986 - val_loss: 0.0020 - val_acc: 0.9997\n",
      "Epoch 26/50\n",
      "80/80 [==============================] - 4s 50ms/step - loss: 0.0072 - acc: 0.9986 - val_loss: 0.0019 - val_acc: 0.9997\n",
      "Epoch 27/50\n",
      "80/80 [==============================] - 3s 42ms/step - loss: 0.0071 - acc: 0.9986 - val_loss: 0.0019 - val_acc: 0.9997\n",
      "Epoch 28/50\n",
      "80/80 [==============================] - 3s 43ms/step - loss: 0.0070 - acc: 0.9986 - val_loss: 0.0019 - val_acc: 0.9997\n",
      "Epoch 29/50\n",
      "80/80 [==============================] - 4s 47ms/step - loss: 0.0069 - acc: 0.9986 - val_loss: 0.0019 - val_acc: 0.9997\n",
      "Epoch 30/50\n",
      "80/80 [==============================] - 4s 48ms/step - loss: 0.0068 - acc: 0.9986 - val_loss: 0.0019 - val_acc: 0.9997\n",
      "Epoch 31/50\n",
      "80/80 [==============================] - 4s 47ms/step - loss: 0.0068 - acc: 0.9986 - val_loss: 0.0019 - val_acc: 0.9997\n",
      "Epoch 32/50\n",
      "80/80 [==============================] - 4s 50ms/step - loss: 0.0068 - acc: 0.9986 - val_loss: 0.0019 - val_acc: 0.9997\n",
      "Epoch 33/50\n",
      "80/80 [==============================] - 3s 41ms/step - loss: 0.0067 - acc: 0.9986 - val_loss: 0.0019 - val_acc: 0.9997\n",
      "Epoch 34/50\n",
      "80/80 [==============================] - 4s 47ms/step - loss: 0.0067 - acc: 0.9986 - val_loss: 0.0019 - val_acc: 0.9997\n",
      "Epoch 35/50\n",
      "80/80 [==============================] - 5s 57ms/step - loss: 0.0066 - acc: 0.9986 - val_loss: 0.0019 - val_acc: 0.9997\n",
      "Epoch 36/50\n",
      "80/80 [==============================] - 4s 48ms/step - loss: 0.0066 - acc: 0.9986 - val_loss: 0.0019 - val_acc: 0.9997\n",
      "Epoch 37/50\n",
      "80/80 [==============================] - 3s 43ms/step - loss: 0.0067 - acc: 0.9986 - val_loss: 0.0019 - val_acc: 0.9997\n",
      "Epoch 38/50\n",
      "80/80 [==============================] - 4s 47ms/step - loss: 0.0066 - acc: 0.9986 - val_loss: 0.0019 - val_acc: 0.9997\n",
      "Epoch 39/50\n",
      "80/80 [==============================] - 4s 45ms/step - loss: 0.0066 - acc: 0.9986 - val_loss: 0.0019 - val_acc: 0.9997\n",
      "Epoch 40/50\n",
      "80/80 [==============================] - 3s 41ms/step - loss: 0.0066 - acc: 0.9986 - val_loss: 0.0019 - val_acc: 0.9997\n",
      "Epoch 41/50\n",
      "80/80 [==============================] - 3s 43ms/step - loss: 0.0065 - acc: 0.9986 - val_loss: 0.0019 - val_acc: 0.9997\n",
      "Epoch 42/50\n",
      "80/80 [==============================] - 3s 42ms/step - loss: 0.0065 - acc: 0.9986 - val_loss: 0.0019 - val_acc: 0.9997\n",
      "Epoch 43/50\n",
      "80/80 [==============================] - 4s 47ms/step - loss: 0.0065 - acc: 0.9986 - val_loss: 0.0019 - val_acc: 0.9997\n",
      "Epoch 44/50\n",
      "80/80 [==============================] - 5s 57ms/step - loss: 0.0065 - acc: 0.9986 - val_loss: 0.0019 - val_acc: 0.9997\n",
      "Epoch 45/50\n",
      "80/80 [==============================] - 4s 48ms/step - loss: 0.0065 - acc: 0.9986 - val_loss: 0.0019 - val_acc: 0.9997\n",
      "Epoch 46/50\n",
      "80/80 [==============================] - 3s 43ms/step - loss: 0.0063 - acc: 0.9986 - val_loss: 0.0019 - val_acc: 0.9997\n",
      "Epoch 47/50\n",
      "80/80 [==============================] - 3s 44ms/step - loss: 0.0063 - acc: 0.9986 - val_loss: 0.0019 - val_acc: 0.9997\n",
      "Epoch 48/50\n",
      "80/80 [==============================] - 3s 41ms/step - loss: 0.0063 - acc: 0.9986 - val_loss: 0.0019 - val_acc: 0.9997\n",
      "Epoch 49/50\n",
      "80/80 [==============================] - 3s 41ms/step - loss: 0.0063 - acc: 0.9986 - val_loss: 0.0019 - val_acc: 0.9997\n",
      "Epoch 50/50\n",
      "80/80 [==============================] - 3s 42ms/step - loss: 0.0062 - acc: 0.9986 - val_loss: 0.0019 - val_acc: 0.9997\n"
     ]
    },
    {
     "data": {
      "text/plain": [
       "<keras.callbacks.History at 0x1c8efee80>"
      ]
     },
     "execution_count": 194,
     "metadata": {},
     "output_type": "execute_result"
    }
   ],
   "source": [
    "from keras.layers import Dense, Merge, Dropout, Permute, Activation\n",
    "from keras.layers.embeddings import Embedding\n",
    "from keras.layers.recurrent import LSTM\n",
    "from keras.models import Sequential\n",
    "\n",
    "# Contants\n",
    "VOCABULARY_SIZE = 729 #53628 ## estimate from the goldilocks paper\n",
    "HIDDEN_LAYER_SIZE = 64  ## 10 neurons for 10 options\n",
    "LSTM_OUTPUT_SIZE=10 #TODO: change LSTM SIZE\n",
    "BATCH_SIZE = 32\n",
    "EPOCHS_SIZE = 50\n",
    "\n",
    "#Initial Embedding matrices A, B for story and options\n",
    "#Each sentence is taken as an n-dimensional vector of float64, with n=VOCABULARY-SIZE\n",
    "#memory_encoder encodes lines 1-21 from story, answer encoder\n",
    "memory_encoder = Sequential()\n",
    "memory_encoder.add(Embedding(input_dim = VOCABULARY_SIZE, output_dim = HIDDEN_LAYER_SIZE,input_length = 729)) #input length = 21\n",
    "memory_encoder.add(Dropout(0.3))\n",
    "\n",
    "option_encoder = Sequential()\n",
    "option_encoder.add(Embedding(input_dim = VOCABULARY_SIZE, output_dim = HIDDEN_LAYER_SIZE,input_length = 729)) #input length = 1\n",
    "option_encoder.add(Dropout(0.3))\n",
    "\n",
    "#Dot product between answer and question encoders, produces internal state \"u\"\n",
    "match = Sequential()\n",
    "match.add(Merge([memory_encoder, option_encoder], mode=\"dot\", dot_axes=[2, 2]))\n",
    "\n",
    "#Story embedded with matrix C to produce output vectors\n",
    "output_memory_encoder = Sequential()\n",
    "output_memory_encoder.add(Embedding(input_dim=VOCABULARY_SIZE,output_dim = 729,input_length = 729)) #input length = 21\n",
    "output_memory_encoder.add(Dropout(0.3))\n",
    "\n",
    "# Response vector, obtained by summing output vectors\n",
    "# Output dim: (None, 10 options, 21)\n",
    "response_vector = Sequential()\n",
    "response_vector.add(Merge([match, output_memory_encoder], mode=\"sum\"))\n",
    "response_vector.add(Permute((2, 1)))\n",
    "\n",
    "#Final embedding for prediction, weighting matrix W\n",
    "#combine response and question vectors and do backpropagation\n",
    "prediction = Sequential()\n",
    "prediction.add(Merge([response_vector, option_encoder], mode=\"concat\", concat_axis=-1))\n",
    "#prediction.add(LSTM(LSTM_OUTPUT_SIZE)) #for soft memory attention mechanism\n",
    "prediction.add(Dropout(0.3))\n",
    "prediction.add(Dense(10)) #for regularization\n",
    "prediction.add(Activation(\"softmax\")) #for softmax \n",
    "\n",
    "prediction.compile(optimizer=\"adam\", loss=\"sparse_categorical_crossentropy\", metrics=[\"accuracy\"])\n",
    "\n",
    "#prediction.fit([Xs_train, Xq_train, Xs_train], Y_train, batch_size=BATCH_SIZE, \n",
    "#           nb_epoch=NBR_EPOCHS, validation_data=([Xs_test, Xq_test, Xs_test], Y_test))\n",
    "\n",
    "prediction.fit([train_data_matrix, train_options_matrix, train_data_matrix], best_train_answer_matrix, batch_size=BATCH_SIZE, \n",
    "           nb_epoch=EPOCHS_SIZE, validation_data=([test_data_matrix, test_options_matrix, test_data_matrix], best_test_answer_matrix))\n",
    "\n",
    "#Notes: dot_axis, concat _axis? Permute? \n",
    "\n",
    "\n",
    "#Doubts: binary_crossentropy instead of categorical crossentropy for loss function"
   ]
  },
  {
   "cell_type": "code",
   "execution_count": 189,
   "metadata": {},
   "outputs": [
    {
     "name": "stdout",
     "output_type": "stream",
     "text": [
      "(80, 729)\n",
      "(80, 729)\n",
      "(80, 729)\n"
     ]
    }
   ],
   "source": [
    "print(train_data_matrix.shape)\n",
    "print(train_options_matrix.shape)\n",
    "print(train_answer_matrix.shape)"
   ]
  },
  {
   "cell_type": "code",
   "execution_count": 202,
   "metadata": {},
   "outputs": [
    {
     "name": "stderr",
     "output_type": "stream",
     "text": [
      "/Users/fridahammarberg/anaconda/lib/python3.6/site-packages/ipykernel_launcher.py:26: UserWarning: The `Merge` layer is deprecated and will be removed after 08/2017. Use instead layers from `keras.layers.merge`, e.g. `add`, `concatenate`, etc.\n",
      "/Users/fridahammarberg/anaconda/lib/python3.6/site-packages/keras/models.py:939: UserWarning: The `nb_epoch` argument in `fit` has been renamed `epochs`.\n",
      "  warnings.warn('The `nb_epoch` argument in `fit` '\n"
     ]
    },
    {
     "name": "stdout",
     "output_type": "stream",
     "text": [
      "Train on 80 samples, validate on 20 samples\n",
      "Epoch 1/10\n",
      "80/80 [==============================] - 2s 28ms/step - loss: 2.3032 - acc: 0.1759 - val_loss: 2.2873 - val_acc: 0.8654\n",
      "Epoch 2/10\n",
      "80/80 [==============================] - 1s 12ms/step - loss: 2.2808 - acc: 0.7207 - val_loss: 2.2541 - val_acc: 0.8654\n",
      "Epoch 3/10\n",
      "80/80 [==============================] - 1s 12ms/step - loss: 2.2455 - acc: 0.7914 - val_loss: 2.1947 - val_acc: 0.8654\n",
      "Epoch 4/10\n",
      "80/80 [==============================] - 1s 12ms/step - loss: 2.1831 - acc: 0.8616 - val_loss: 2.1014 - val_acc: 0.9997\n",
      "Epoch 5/10\n",
      "80/80 [==============================] - 1s 12ms/step - loss: 2.0852 - acc: 0.9493 - val_loss: 1.9679 - val_acc: 0.9997\n",
      "Epoch 6/10\n",
      "80/80 [==============================] - 1s 12ms/step - loss: 1.9507 - acc: 0.9869 - val_loss: 1.7890 - val_acc: 0.9997\n",
      "Epoch 7/10\n",
      "80/80 [==============================] - 1s 14ms/step - loss: 1.7689 - acc: 0.9955 - val_loss: 1.5610 - val_acc: 0.9997\n",
      "Epoch 8/10\n",
      "80/80 [==============================] - 1s 14ms/step - loss: 1.5392 - acc: 0.9980 - val_loss: 1.2874 - val_acc: 0.9997\n",
      "Epoch 9/10\n",
      "80/80 [==============================] - 1s 18ms/step - loss: 1.2760 - acc: 0.9984 - val_loss: 0.9798 - val_acc: 0.9997\n",
      "Epoch 10/10\n",
      "80/80 [==============================] - 1s 14ms/step - loss: 0.9872 - acc: 0.9986 - val_loss: 0.6726 - val_acc: 0.9997\n",
      "20/20 [==============================] - 0s 3ms/step\n",
      "acc: 99.97%\n"
     ]
    }
   ],
   "source": [
    "from keras.layers import Dense, Merge, Dropout, Permute, Activation\n",
    "from keras.layers.embeddings import Embedding\n",
    "from keras.layers.recurrent import RNN\n",
    "from keras.models import Sequential\n",
    "\n",
    "# Contants\n",
    "VOCABULARY_SIZE = 729 #53628 ## estimate from the goldilocks paper\n",
    "HIDDEN_LAYER_SIZE = 10  ## 10 neurons for 10 options\n",
    "BATCH_SIZE = 20 #32\n",
    "EPOCHS_SIZE = 10\n",
    "\n",
    "#Initial Embedding matrices A, B for story and options\n",
    "#Each sentence is taken as an n-dimensional vector of float64, with n=VOCABULARY-SIZE\n",
    "#memory_encoder encodes lines 1-21 from story, answer encoder\n",
    "memory_encoder = Sequential()\n",
    "memory_encoder.add(Embedding(input_dim = VOCABULARY_SIZE, output_dim = HIDDEN_LAYER_SIZE,input_length=729)) #21\n",
    "#memory_encoder.add(RNN(cell, input_dim=HIDDEN_LAYER_SIZE, input_lenght=21, return_sequences=False) )\n",
    "memory_encoder.add(Dropout(0.3))\n",
    "\n",
    "answer_encoder = Sequential()\n",
    "answer_encoder.add(Embedding(input_dim = VOCABULARY_SIZE, output_dim = HIDDEN_LAYER_SIZE,input_length=729)) #1\n",
    "answer_encoder.add(Dropout(0.3))\n",
    "\n",
    "#Dot product between answer and question encoders, produces internal state \"u\"\n",
    "prediction = Sequential()\n",
    "prediction.add(Merge([memory_encoder, answer_encoder], mode ='dot'))\n",
    "prediction.add(Dropout(0.3))\n",
    "prediction.add(Dense(10)) #for regularization\n",
    "prediction.add(Activation('softmax')) #for softmax \n",
    "\n",
    "#Optimizer, loss function, metrics setting\n",
    "prediction.compile(optimizer='adam', loss='sparse_categorical_crossentropy', metrics=['accuracy'])\n",
    "\n",
    "#training\n",
    "prediction.fit([train_data_matrix, train_options_matrix], best_train_answer_matrix, batch_size=BATCH_SIZE, \n",
    "           nb_epoch=EPOCHS_SIZE, validation_data=([test_data_matrix, test_options_matrix], best_test_answer_matrix))\n",
    "\n",
    "#scores = prediction.evaluate([test_data_matrix, test_options_matrix], best_test_answer_matrix)\n",
    "#print(\"%s: %.2f%%\" % (prediction.metrics_names[1], scores[1]*100))"
   ]
  },
  {
   "cell_type": "code",
   "execution_count": 193,
   "metadata": {
    "collapsed": true
   },
   "outputs": [],
   "source": [
    "best_train_answer_matrix = np.expand_dims(train_answer_matrix, -1)\n",
    "best_test_answer_matrix = np.expand_dims(test_answer_matrix, -1)"
   ]
  },
  {
   "cell_type": "code",
   "execution_count": null,
   "metadata": {
    "collapsed": true
   },
   "outputs": [],
   "source": [
    "#print(\"%s: %.2f%%\" % (model.metrics_names[1], scores[1]*100))"
   ]
  },
  {
   "cell_type": "code",
   "execution_count": 172,
   "metadata": {},
   "outputs": [
    {
     "name": "stdout",
     "output_type": "stream",
     "text": [
      "(1, 729)\n",
      "(1, 729)\n",
      "(1, 729)\n",
      "**\n",
      "729\n"
     ]
    }
   ],
   "source": [
    "import numpy as np\n",
    "#np.set_printoptions(threshold=30)\n",
    "\n",
    "splitted_train_data_matrix=np.vsplit(train_data_matrix,80)\n",
    "splitted_train_options_matrix=np.vsplit(train_options_matrix,80)\n",
    "splitted_train_answer_matrix=np.vsplit(train_answer_matrix,80)\n",
    "#print(splitted_train_data_matrix[0])\n",
    "print(splitted_train_data_matrix[0].shape)\n",
    "print(splitted_train_options_matrix[0].shape)\n",
    "print(splitted_train_answer_matrix[0].shape)\n",
    "print(\"**\")\n",
    "print(splitted_train_answer_matrix[0].shape[1])\n"
   ]
  },
  {
   "cell_type": "code",
   "execution_count": 171,
   "metadata": {},
   "outputs": [
    {
     "name": "stdout",
     "output_type": "stream",
     "text": [
      "(80, 1, 729)\n",
      "(80, 1, 729)\n",
      "(80, 1, 729)\n"
     ]
    }
   ],
   "source": [
    "D3_splitted_train_data_matrix=np.asarray(splitted_train_data_matrix)\n",
    "print(D3_splitted_train_data_matrix.shape)\n",
    "D3_splitted_train_options_matrix=np.asarray(splitted_train_options_matrix)\n",
    "print(D3_splitted_train_options_matrix.shape)\n",
    "D3_splitted_train_answer_matrix=np.asarray(splitted_train_answer_matrix)\n",
    "print(D3_splitted_train_answer_matrix.shape)"
   ]
  },
  {
   "cell_type": "code",
   "execution_count": null,
   "metadata": {
    "collapsed": true
   },
   "outputs": [],
   "source": []
  }
 ],
 "metadata": {
  "kernelspec": {
   "display_name": "Python 3",
   "language": "python",
   "name": "python3"
  },
  "language_info": {
   "codemirror_mode": {
    "name": "ipython",
    "version": 3
   },
   "file_extension": ".py",
   "mimetype": "text/x-python",
   "name": "python",
   "nbconvert_exporter": "python",
   "pygments_lexer": "ipython3",
   "version": "3.6.1"
  }
 },
 "nbformat": 4,
 "nbformat_minor": 2
}
