{
 "cells": [
  {
   "cell_type": "code",
   "execution_count": null,
   "metadata": {
    "collapsed": true
   },
   "outputs": [],
   "source": [
    "import pandas as pd\n",
    "from keras.preprocessing.text import Tokenizer\n",
    "import copy\n",
    "import os\n",
    "from functools import reduce\n",
    "\n",
    "#Check path\n",
    "current = os.getcwd()\n",
    "parent = os.path.abspath(os.path.join(current, os.pardir)) \n",
    "path = parent + \"/AI_Course_Final/competition.txt\"\n",
    "os.path.exists(path)\n",
    "\n",
    "#Create dataframe, separate data/options\n",
    "competition_df = pd.read_csv(path, sep='\\n', delimiter='\\t', header=None, names=['sentence','options'])\n",
    "competition_data = competition_df[['sentence']].copy()\n",
    "competition_data['sentence'] = competition_data['sentence'].map(lambda x: x.lstrip('1234567890'))\n",
    "competition_option = competition_df[['options']].copy().dropna(axis=0, how='any').reset_index(drop=True)\n",
    "\n",
    "#Separate options\n",
    "competition_option_list = []\n",
    "k = 0\n",
    "for x in competition_option.iterrows():\n",
    "    string_opt = competition_option.values[k][0].replace(\"|\", \" \")\n",
    "    competition_option_list.append(string_opt)\n",
    "    k += 1\n",
    "    \n",
    "competition_option_df = pd.DataFrame(competition_option_list, columns=['options'])\n",
    "\n",
    "#Sentences, answers to lists\n",
    "tcompetition_data_list = competition_data['sentence'].tolist()\n",
    "competition_options_list = competition_answer['answer'].tolist()\n",
    "\n",
    "#tokenize\n",
    "#TODO UNPICKLE TOKENIZER\n",
    "#'''file_Name = \"\"\n",
    "fileObject = open(file_Name, 'rb')\n",
    "b = pickle.load(fileObject)\n",
    "b #prints the b (what you wanted to open)'''\n",
    "tokenizer.fit_on_texts(competition_data_list)\n",
    "tokenizer.fit_on_texts(competition_options_list)\n",
    "competition_data_matrix = tokenizer.texts_to_matrix(competition_data_list)\n",
    "competition_options_matrix = tokenizer.texts_to_matrix(competition_options_list)"
   ]
  }
 ],
 "metadata": {
  "kernelspec": {
   "display_name": "Python 3",
   "language": "python",
   "name": "python3"
  },
  "language_info": {
   "codemirror_mode": {
    "name": "ipython",
    "version": 3
   },
   "file_extension": ".py",
   "mimetype": "text/x-python",
   "name": "python",
   "nbconvert_exporter": "python",
   "pygments_lexer": "ipython3",
   "version": "3.6.1"
  }
 },
 "nbformat": 4,
 "nbformat_minor": 2
}
