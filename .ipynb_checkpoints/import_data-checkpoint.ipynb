{
 "cells": [
  {
   "cell_type": "code",
   "execution_count": 80,
   "metadata": {
    "collapsed": true
   },
   "outputs": [],
   "source": [
    "#To run this notebook, you need to have the folder \"AI_Course_Final\" (downloaded from Kaggle) \n",
    "#in the parent folder of the git-repository-folder"
   ]
  },
  {
   "cell_type": "code",
   "execution_count": 81,
   "metadata": {},
   "outputs": [
    {
     "name": "stdout",
     "output_type": "stream",
     "text": [
      "The autoreload extension is already loaded. To reload it, use:\n",
      "  %reload_ext autoreload\n"
     ]
    }
   ],
   "source": [
    "%load_ext autoreload\n",
    "%autoreload 2"
   ]
  },
  {
   "cell_type": "code",
   "execution_count": 82,
   "metadata": {
    "collapsed": true
   },
   "outputs": [],
   "source": [
    "import pandas as pd"
   ]
  },
  {
   "cell_type": "code",
   "execution_count": 83,
   "metadata": {},
   "outputs": [
    {
     "name": "stdout",
     "output_type": "stream",
     "text": [
      "/Users/fridahammarberg/Documents/NTHU/intelligent_computing/project/intelligent_computing_project\n",
      "/Users/fridahammarberg/Documents/NTHU/intelligent_computing/project\n",
      "/Users/fridahammarberg/Documents/NTHU/intelligent_computing/project/AI_Course_Final/CBTest/data/cbt_test.txt\n"
     ]
    }
   ],
   "source": [
    "import os \n",
    "current = os.getcwd()\n",
    "print(current) # displays our current directory\n",
    "parent = os.path.abspath(os.path.join(current, os.pardir)) \n",
    "print(parent) # displays the parent directory\n",
    "path = parent + \"/AI_Course_Final/CBTest/data/cbt_test.txt\"\n",
    "print(path) \n",
    "os.path.exists(path)\n",
    "# Check if the wanted path exist. Must be True!!\n",
    "test = pd.read_csv(path, sep='\\n')"
   ]
  },
  {
   "cell_type": "code",
   "execution_count": 84,
   "metadata": {},
   "outputs": [],
   "source": [
    "path_CN_test = parent + \"/AI_Course_Final/CBTest/data/cbtest_CN_test_2500ex.txt\"\n",
    "path_CN_train = parent + \"/AI_Course_Final/CBTest/data/cbtest_CN_train.txt\"\n",
    "path_CN_valid = parent + \"/AI_Course_Final/CBTest/data/cbtest_CN_valid_2000ex.txt\"\n",
    "\n",
    "path_NE_test = parent + \"/AI_Course_Final/CBTest/data/cbtest_NE_test_2500ex.txt\"\n",
    "path_NE_train = parent + \"/AI_Course_Final/CBTest/data/cbtest_NE_train.txt\"\n",
    "path_NE_valid = parent + \"/AI_Course_Final/CBTest/data/cbtest_NE_valid_2000ex.txt\"\n",
    "\n",
    "path_P_test = parent + \"/AI_Course_Final/CBTest/data/cbtest_P_test_2500ex.txt\"\n",
    "path_P_train = parent + \"/AI_Course_Final/CBTest/data/cbtest_P_train.txt\"\n",
    "path_P_valid = parent + \"/AI_Course_Final/CBTest/data/cbtest_P_valid_2000ex.txt\"\n",
    "\n",
    "path_V_test = parent + \"/AI_Course_Final/CBTest/data/cbtest_V_test_2500ex.txt\"\n",
    "path_V_train = parent + \"/AI_Course_Final/CBTest/data/cbtest_V_train.txt\"\n",
    "path_V_valid = parent + \"/AI_Course_Final/CBTest/data/cbtest_V_valid_2000ex.txt\""
   ]
  },
  {
   "cell_type": "code",
   "execution_count": 85,
   "metadata": {
    "collapsed": true
   },
   "outputs": [],
   "source": [
    "CN_test = pd.read_csv(path_CN_test, sep='\\n', header=None, names=['sentence'])\n",
    "CN_train = pd.read_csv(path_CN_train, sep='\\n', header=None, names=['sentence'])\n",
    "CN_valid = pd.read_csv(path_CN_valid, sep='\\n', header=None, names=['sentence'])\n",
    "\n",
    "NE_test = pd.read_csv(path_NE_test, sep='\\n', header=None, names=['sentence'])\n",
    "NE_train = pd.read_csv(path_NE_train, sep='\\n', header=None, names=['sentence'])\n",
    "NE_valid = pd.read_csv(path_NE_valid, sep='\\n', header=None, names=['sentence'])\n",
    "\n",
    "P_test = pd.read_csv(path_P_test, sep='\\n', header=None, names=['sentence'])\n",
    "P_train = pd.read_csv(path_P_train, sep='\\n', header=None, names=['sentence'])\n",
    "P_valid = pd.read_csv(path_P_test, sep='\\n', header=None, names=['sentence'])\n",
    "\n",
    "V_test = pd.read_csv(path_V_test, sep='\\n', header=None, names=['sentence'])\n",
    "V_train = pd.read_csv(path_V_train, sep='\\n', header=None, names=['sentence'])\n",
    "V_valid = pd.read_csv(path_V_valid, sep='\\n', header=None, names=['sentence'])"
   ]
  },
  {
   "cell_type": "code",
   "execution_count": 86,
   "metadata": {},
   "outputs": [],
   "source": [
    "test_data = pd.concat([CN_test, NE_test, P_test, V_test])\n",
    "\n",
    "train_data = pd.concat([CN_train, NE_train, P_train, V_train])\n",
    "\n",
    "valid_data = pd.concat([CN_valid, NE_valid, P_valid, V_valid])"
   ]
  },
  {
   "cell_type": "code",
   "execution_count": 94,
   "metadata": {},
   "outputs": [],
   "source": [
    "# delete the nbrs in the beginning of each sentence\n",
    "test_data['sentence'] = test_data['sentence'].map(lambda x: x.lstrip('1234567890'))\n",
    "# delete everything from '\\t' and to the right of a sentence (deletes the right answer and alt every 21 sentence)\n",
    "test_data['sentence'] = test_data['sentence'].str.split('\\t').str[0]\n",
    "\n",
    "#test_data[0:110] # prints the first 110 records in the dataframe\n",
    "#test_data.iloc[20::21, :] # prints every 21 sentence\n",
    "\n",
    "# does the same for training and validation data sets:\n",
    "train_data['sentence'] = train_data['sentence'].map(lambda x: x.lstrip('1234567890'))\n",
    "train_data['sentence'] = train_data['sentence'].str.split('\\t').str[0]\n",
    "\n",
    "valid_data['sentence'] = valid_data['sentence'].map(lambda x: x.lstrip('1234567890'))\n",
    "valid_data['sentence'] = valid_data['sentence'].str.split('\\t').str[0]"
   ]
  },
  {
   "cell_type": "code",
   "execution_count": null,
   "metadata": {
    "collapsed": true
   },
   "outputs": [],
   "source": []
  }
 ],
 "metadata": {
  "kernelspec": {
   "display_name": "Python 3",
   "language": "python",
   "name": "python3"
  },
  "language_info": {
   "codemirror_mode": {
    "name": "ipython",
    "version": 3
   },
   "file_extension": ".py",
   "mimetype": "text/x-python",
   "name": "python",
   "nbconvert_exporter": "python",
   "pygments_lexer": "ipython3",
   "version": "3.6.1"
  }
 },
 "nbformat": 4,
 "nbformat_minor": 2
}
