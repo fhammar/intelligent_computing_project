{
 "cells": [
  {
   "cell_type": "code",
   "execution_count": null,
   "metadata": {
    "collapsed": true
   },
   "outputs": [],
   "source": [
    "\n",
    "from __future__ import division, print_function\n",
    "from keras.layers import Dense, Merge, Dropout, Permute, Activation\n",
    "from keras.layers.embeddings import Embedding\n",
    "from keras.layers.recurrent import LSTM\n",
    "from keras.models import Sequential\n",
    "#create model\n",
    "VOCABULARY_SIZE = 53628\n",
    "HIDDEN_LAYER_SIZE = 100000\n",
    "from keras.models import Sequential\n",
    "model = Sequential()\n",
    "model.add(Embedding(21,input_dim =8, actication - 'relu'))\n",
    "model.add(Dense())\n",
    "#----------------------\n",
    "\n",
    "memory_encoder = Sequential()\n",
    "memory_encoder.add(Embedding(input_dim = VOCABULARY_SIZE,\n",
    "                             output_dim = HIDDEN_LAYER_SIZE,  \n",
    "                             input_len = memory_maxlen))\n",
    "\n",
    "memory_encoder.add(Dropout(0.3))\n",
    "#----\n",
    "question_encoder = Sequential()\n",
    "question_encoder.add(Embedding(input_dim = VOCABULARY_SIZE,\n",
    "                               output_dim = HIDDEN_LAYER_SIZE,  \n",
    "                               input_len = question_maxlen)) \n",
    "\n",
    "quesetion_encoder.add(Dropout(0.3))\n",
    "#----\n",
    "answer_encoder = Sequential()\n",
    "answer_encoder.add(Embedding(input_dim = VOCABULARY_SIZE,\n",
    "                             output_dim = HIDDEN_LAYER_SIZE,  \n",
    "                             input_len = 10))\n",
    "\n",
    "answer_encoder.add(Dropout(0.3))\n",
    "\n"
   ]
  }
 ],
 "metadata": {
  "kernelspec": {
   "display_name": "Python 3",
   "language": "python",
   "name": "python3"
  },
  "language_info": {
   "codemirror_mode": {
    "name": "ipython",
    "version": 3
   },
   "file_extension": ".py",
   "mimetype": "text/x-python",
   "name": "python",
   "nbconvert_exporter": "python",
   "pygments_lexer": "ipython3",
   "version": "3.6.1"
  }
 },
 "nbformat": 4,
 "nbformat_minor": 2
}
