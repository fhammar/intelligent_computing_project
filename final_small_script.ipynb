{
 "cells": [
  {
   "cell_type": "markdown",
   "metadata": {},
   "source": [
    "# Insert and tokenize the data"
   ]
  },
  {
   "cell_type": "code",
   "execution_count": 1,
   "metadata": {
    "collapsed": true
   },
   "outputs": [],
   "source": [
    "#To run this notebook, you need to have the folder \"AI_Course_Final\" (downloaded from Kaggle) \n",
    "#in the parent folder of the git-repository-folder"
   ]
  },
  {
   "cell_type": "code",
   "execution_count": 34,
   "metadata": {
    "collapsed": true
   },
   "outputs": [],
   "source": [
    "%load_ext autoreload\n",
    "%autoreload 2"
   ]
  },
  {
   "cell_type": "code",
   "execution_count": 33,
   "metadata": {},
   "outputs": [],
   "source": [
    "import pandas as pd\n",
    "from keras.preprocessing.text import Tokenizer\n",
    "import copy\n",
    "import os\n",
    "from functools import reduce\n",
    "import pickle\n",
    "import numpy as np\n",
    "import h5py\n",
    "\n",
    "#Imports for the models:\n",
    "from keras.layers import Dense, Merge, Dropout, Permute, Activation\n",
    "from keras.layers.embeddings import Embedding\n",
    "from keras.layers.recurrent import RNN, LSTM\n",
    "from keras.models import Sequential"
   ]
  },
  {
   "cell_type": "code",
   "execution_count": 3,
   "metadata": {},
   "outputs": [
    {
     "name": "stdout",
     "output_type": "stream",
     "text": [
      "/Users/fridahammarberg/Documents/NTHU/intelligent_computing/project/intelligent_computing_project\n",
      "/Users/fridahammarberg/Documents/NTHU/intelligent_computing/project\n",
      "/Users/fridahammarberg/Documents/NTHU/intelligent_computing/project/AI_Course_Final/CBTest/data/cbt_test.txt\n"
     ]
    }
   ],
   "source": [
    "current = os.getcwd()\n",
    "print(current) # displays our current directory\n",
    "parent = os.path.abspath(os.path.join(current, os.pardir)) \n",
    "print(parent) # displays the parent directory\n",
    "path = parent + \"/AI_Course_Final/CBTest/data/cbt_test.txt\"\n",
    "print(path) \n",
    "os.path.exists(path)\n",
    "# Check if the wanted path exist. Must be True!!\n",
    "test = pd.read_csv(path, sep='\\n')"
   ]
  },
  {
   "cell_type": "code",
   "execution_count": 4,
   "metadata": {
    "collapsed": true
   },
   "outputs": [],
   "source": [
    "path_CN_test = parent + \"/AI_Course_Final/CBTest/data/cbtest_CN_test_2500ex.txt\"\n",
    "path_CN_train = parent + \"/AI_Course_Final/CBTest/data/cbtest_CN_train.txt\"\n",
    "#path_CN_valid = parent + \"/AI_Course_Final/CBTest/data/cbtest_CN_valid_2000ex.txt\"\n",
    "\n",
    "path_NE_test = parent + \"/AI_Course_Final/CBTest/data/cbtest_NE_test_2500ex.txt\"\n",
    "path_NE_train = parent + \"/AI_Course_Final/CBTest/data/cbtest_NE_train.txt\"\n",
    "#path_NE_valid = parent + \"/AI_Course_Final/CBTest/data/cbtest_NE_valid_2000ex.txt\"\n",
    "\n",
    "path_P_test = parent + \"/AI_Course_Final/CBTest/data/cbtest_P_test_2500ex.txt\"\n",
    "path_P_train = parent + \"/AI_Course_Final/CBTest/data/cbtest_P_train.txt\"\n",
    "#path_P_valid = parent + \"/AI_Course_Final/CBTest/data/cbtest_P_valid_2000ex.txt\"\n",
    "\n",
    "path_V_test = parent + \"/AI_Course_Final/CBTest/data/cbtest_V_test_2500ex.txt\"\n",
    "path_V_train = parent + \"/AI_Course_Final/CBTest/data/cbtest_V_train.txt\"\n",
    "#path_V_valid = parent + \"/AI_Course_Final/CBTest/data/cbtest_V_valid_2000ex.txt\""
   ]
  },
  {
   "cell_type": "code",
   "execution_count": 5,
   "metadata": {
    "collapsed": true
   },
   "outputs": [],
   "source": [
    "pd.set_option('display.max_colwidth', -1)\n",
    "\n",
    "CN_test = pd.read_csv(path_CN_test, sep='\\n', delimiter='\\t', header=None, names=['sentence','answer','empty','options'])\n",
    "CN_train = pd.read_csv(path_CN_train, sep='\\n', delimiter='\\t', header=None, names=['sentence','answer','empty','options'])\n",
    "#CN_valid = pd.read_csv(path_CN_valid, sep='\\n', delimiter='\\t', header=None, names=['sentence','answer','empty','options'])\n",
    "\n",
    "NE_test = pd.read_csv(path_NE_test, sep='\\n', delimiter='\\t', header=None, names=['sentence','answer','empty','options'])\n",
    "NE_train = pd.read_csv(path_NE_train, sep='\\n', delimiter='\\t', header=None, names=['sentence','answer','empty','options'])\n",
    "#NE_valid = pd.read_csv(path_NE_valid, sep='\\n', delimiter='\\t', header=None, names=['sentence','answer','empty','options'])\n",
    "\n",
    "P_test = pd.read_csv(path_P_test, sep='\\n', delimiter='\\t', header=None, names=['sentence','answer','empty','options'])\n",
    "P_train = pd.read_csv(path_P_train, sep='\\n', delimiter='\\t', header=None, names=['sentence','answer','empty','options'])\n",
    "#P_valid = pd.read_csv(path_P_test, sep='\\n', delimiter='\\t', header=None, names=['sentence','answer','empty','options'])\n",
    "\n",
    "V_test = pd.read_csv(path_V_test, sep='\\n', delimiter='\\t', header=None, names=['sentence','answer','empty','options'])\n",
    "V_train = pd.read_csv(path_V_train, sep='\\n', delimiter='\\t', header=None, names=['sentence','answer','empty','options'])\n",
    "#V_valid = pd.read_csv(path_V_valid, sep='\\n', delimiter='\\t', header=None, names=['sentence','answer','empty','options'])"
   ]
  },
  {
   "cell_type": "code",
   "execution_count": 6,
   "metadata": {
    "collapsed": true
   },
   "outputs": [],
   "source": [
    "test_df = pd.concat([CN_test, NE_test, P_test, V_test])\n",
    "\n",
    "train_df = pd.concat([CN_train, NE_train, P_train, V_train])\n",
    "\n",
    "#valid_df = pd.concat([CN_valid, NE_valid, P_valid, V_valid])"
   ]
  },
  {
   "cell_type": "code",
   "execution_count": 7,
   "metadata": {
    "collapsed": true
   },
   "outputs": [],
   "source": [
    "test_data = test_df[['sentence']].copy()\n",
    "train_data = train_df[['sentence']].copy()\n",
    "#valid_data = valid_df[['sentence']].copy()"
   ]
  },
  {
   "cell_type": "code",
   "execution_count": 8,
   "metadata": {
    "collapsed": true
   },
   "outputs": [],
   "source": [
    "# delete the nbrs in the beginning of each sentence\n",
    "test_data['sentence'] = test_data['sentence'].map(lambda x: x.lstrip('1234567890'))\n",
    "train_data['sentence'] = train_data['sentence'].map(lambda x: x.lstrip('1234567890'))\n",
    "#valid_data['sentence'] = valid_data['sentence'].map(lambda x: x.lstrip('1234567890'))"
   ]
  },
  {
   "cell_type": "code",
   "execution_count": 9,
   "metadata": {
    "collapsed": true
   },
   "outputs": [],
   "source": [
    "test_answer = test_df[['answer']].copy().dropna(axis=0, how='any').reset_index(drop=True)\n",
    "train_answer = train_df[['answer']].copy().dropna(axis=0, how='any').reset_index(drop=True)\n",
    "#valid_answer = valid_df[['answer']].copy().dropna(axis=0, how='any').reset_index(drop=True)"
   ]
  },
  {
   "cell_type": "code",
   "execution_count": 10,
   "metadata": {
    "collapsed": true
   },
   "outputs": [],
   "source": [
    "test_option = test_df[['options']].copy().dropna(axis=0, how='any').reset_index(drop=True)\n",
    "train_option = train_df[['options']].copy().dropna(axis=0, how='any').reset_index(drop=True)\n",
    "#valid_option = valid_df[['options']].copy().dropna(axis=0, how='any').reset_index(drop=True)"
   ]
  },
  {
   "cell_type": "code",
   "execution_count": 11,
   "metadata": {
    "collapsed": true
   },
   "outputs": [],
   "source": [
    "test_option_list = []\n",
    "k = 0\n",
    "for x in test_option.iterrows():\n",
    "    string_opt = test_option.values[k][0].replace(\"|\", \" \")\n",
    "    test_option_list.append(string_opt)\n",
    "    k += 1\n",
    "    \n",
    "test_option_df = pd.DataFrame(test_option_list, columns=['options'])\n",
    "\n",
    "\n",
    "train_option_list = []\n",
    "k = 0\n",
    "for x in train_option.iterrows():\n",
    "    string_opt = train_option.values[k][0].replace(\"|\", \" \")\n",
    "    train_option_list.append(string_opt)\n",
    "    k += 1\n",
    "    \n",
    "train_option_df = pd.DataFrame(train_option_list, columns=['options'])"
   ]
  },
  {
   "cell_type": "code",
   "execution_count": 12,
   "metadata": {
    "collapsed": true
   },
   "outputs": [],
   "source": [
    "# Do the same to the validation data -- we dont need this during the competition data\n",
    "\n",
    "#valid_option_list = []\n",
    "#k = 0\n",
    "#for x in valid_option.iterrows():\n",
    "#    string_opt = valid_option.values[k][0].replace(\"|\", \" \")\n",
    "#    valid_option_list.append(string_opt)\n",
    "#    k += 1\n",
    "    \n",
    "#valid_option_df = pd.DataFrame(valid_option_list, columns=['options'])"
   ]
  },
  {
   "cell_type": "code",
   "execution_count": 13,
   "metadata": {
    "collapsed": true
   },
   "outputs": [],
   "source": [
    "test_data_list = test_data['sentence'].tolist()\n",
    "train_data_list = train_data['sentence'].tolist()\n",
    "#valid_data_list = valid_data['sentence'].tolist()\n",
    "\n",
    "test_answer_list = test_answer['answer'].tolist()\n",
    "train_answer_list = train_answer['answer'].tolist()\n",
    "#valid_answer_list = valid_answer['answer'].tolist()"
   ]
  },
  {
   "cell_type": "markdown",
   "metadata": {},
   "source": [
    "## Creating a smaller dataset"
   ]
  },
  {
   "cell_type": "code",
   "execution_count": 24,
   "metadata": {
    "collapsed": true
   },
   "outputs": [],
   "source": [
    "n = 10\n",
    "new_test_data_list = copy.deepcopy(test_data_list[:21*2*n])\n",
    "new_test_answer_list = copy.deepcopy(test_answer_list[:2*n])\n",
    "new_test_option_list = copy.deepcopy(test_option_list[:2*n])\n",
    "\n",
    "new_train_data_list = copy.deepcopy(train_data_list[:21*8*n])\n",
    "new_train_answer_list = copy.deepcopy(train_answer_list[:8*n])\n",
    "new_train_option_list = copy.deepcopy(train_option_list[:8*n])"
   ]
  },
  {
   "cell_type": "markdown",
   "metadata": {},
   "source": [
    "## Below we just creates 1 vector for each 21 sentences:"
   ]
  },
  {
   "cell_type": "code",
   "execution_count": 25,
   "metadata": {
    "collapsed": true
   },
   "outputs": [],
   "source": [
    "#new_test_data_list/test_data_list to small_test_data_list\n",
    "\n",
    "t = 0\n",
    "small_list = []\n",
    "small_test_data_list = []\n",
    "for u in new_test_data_list: #change here if we have the big dataset\n",
    "    if t < 21:\n",
    "        small_list.append(u)\n",
    "        t += 1\n",
    "    else:\n",
    "        small_test_data_list.append(reduce(lambda a, b: a + b, small_list))\n",
    "        small_list = []\n",
    "        t = 1\n",
    "\n",
    "small_test_data_list.append(reduce(lambda a, b: a + b, small_list))\n",
    "\n",
    "#***********************************\n",
    "\n",
    "#new_train_data_list/train_data_list to small_train_data_list\n",
    "\n",
    "t = 0\n",
    "small_list = []\n",
    "small_train_data_list = []\n",
    "for u in new_train_data_list: #change here if we have the big dataset\n",
    "    if t < 21:\n",
    "        small_list.append(u)\n",
    "        t += 1\n",
    "    else:\n",
    "        small_train_data_list.append(reduce(lambda a, b: a + b, small_list))\n",
    "        small_list = []\n",
    "        t = 1\n",
    "small_train_data_list.append(reduce(lambda a, b: a + b, small_list))\n",
    "#***********************************"
   ]
  },
  {
   "cell_type": "markdown",
   "metadata": {},
   "source": [
    "# Tokenizer"
   ]
  },
  {
   "cell_type": "code",
   "execution_count": 26,
   "metadata": {
    "collapsed": true
   },
   "outputs": [],
   "source": [
    "tokenizer = Tokenizer()"
   ]
  },
  {
   "cell_type": "code",
   "execution_count": 27,
   "metadata": {},
   "outputs": [],
   "source": [
    "#tokenizer.fit_on_texts(train_data_list)\n",
    "#tokenizer.fit_on_texts(new_train_data_list)\n",
    "tokenizer.fit_on_texts(small_train_data_list)"
   ]
  },
  {
   "cell_type": "code",
   "execution_count": 28,
   "metadata": {
    "collapsed": true
   },
   "outputs": [],
   "source": [
    "train_data_matrix = tokenizer.texts_to_matrix(small_train_data_list)\n",
    "train_answer_matrix = tokenizer.texts_to_matrix(new_train_answer_list)\n",
    "train_options_matrix = tokenizer.texts_to_matrix(new_train_option_list)"
   ]
  },
  {
   "cell_type": "code",
   "execution_count": 29,
   "metadata": {
    "collapsed": true
   },
   "outputs": [],
   "source": [
    "test_data_matrix = tokenizer.texts_to_matrix(small_test_data_list)\n",
    "test_answer_matrix = tokenizer.texts_to_matrix(new_test_answer_list)\n",
    "test_options_matrix = tokenizer.texts_to_matrix(new_test_option_list)"
   ]
  },
  {
   "cell_type": "markdown",
   "metadata": {},
   "source": [
    "## Increse the dimension:"
   ]
  },
  {
   "cell_type": "code",
   "execution_count": 30,
   "metadata": {
    "collapsed": true
   },
   "outputs": [],
   "source": [
    "best_train_answer_matrix = np.expand_dims(train_answer_matrix, -1)\n",
    "best_test_answer_matrix = np.expand_dims(test_answer_matrix, -1)"
   ]
  },
  {
   "cell_type": "markdown",
   "metadata": {},
   "source": [
    "# Creating the first model - RNN"
   ]
  },
  {
   "cell_type": "code",
   "execution_count": 35,
   "metadata": {},
   "outputs": [
    {
     "name": "stderr",
     "output_type": "stream",
     "text": [
      "/Users/fridahammarberg/anaconda/lib/python3.6/site-packages/ipykernel_launcher.py:17: UserWarning: The `Merge` layer is deprecated and will be removed after 08/2017. Use instead layers from `keras.layers.merge`, e.g. `add`, `concatenate`, etc.\n",
      "/Users/fridahammarberg/anaconda/lib/python3.6/site-packages/keras/models.py:939: UserWarning: The `nb_epoch` argument in `fit` has been renamed `epochs`.\n",
      "  warnings.warn('The `nb_epoch` argument in `fit` '\n"
     ]
    },
    {
     "name": "stdout",
     "output_type": "stream",
     "text": [
      "Train on 80 samples, validate on 20 samples\n",
      "Epoch 1/5\n",
      "80/80 [==============================] - 5s 61ms/step - loss: 2.2973 - acc: 0.5374 - val_loss: 2.2855 - val_acc: 0.9997\n",
      "Epoch 2/5\n",
      "80/80 [==============================] - 1s 12ms/step - loss: 2.2765 - acc: 0.9605 - val_loss: 2.2565 - val_acc: 0.9997\n",
      "Epoch 3/5\n",
      "80/80 [==============================] - 1s 12ms/step - loss: 2.2440 - acc: 0.9981 - val_loss: 2.2135 - val_acc: 0.9997\n",
      "Epoch 4/5\n",
      "80/80 [==============================] - 1s 12ms/step - loss: 2.1971 - acc: 0.9986 - val_loss: 2.1522 - val_acc: 0.9997\n",
      "Epoch 5/5\n",
      "80/80 [==============================] - 1s 12ms/step - loss: 2.1312 - acc: 0.9986 - val_loss: 2.0665 - val_acc: 0.9997\n"
     ]
    },
    {
     "data": {
      "text/plain": [
       "<keras.callbacks.History at 0x18466df28>"
      ]
     },
     "execution_count": 35,
     "metadata": {},
     "output_type": "execute_result"
    }
   ],
   "source": [
    "#Constants\n",
    "VOCABULARY_SIZE = 729 \n",
    "HIDDEN_LAYER_SIZE = 10  \n",
    "BATCH_SIZE = 20 \n",
    "EPOCHS_SIZE = 5\n",
    "\n",
    "memory_encoder = Sequential()\n",
    "memory_encoder.add(Embedding(input_dim = VOCABULARY_SIZE, output_dim = HIDDEN_LAYER_SIZE, input_length = 729))\n",
    "memory_encoder.add(Dropout(0.3))\n",
    "\n",
    "answer_encoder = Sequential()\n",
    "answer_encoder.add(Embedding(input_dim = VOCABULARY_SIZE, output_dim = HIDDEN_LAYER_SIZE, input_length = 729))\n",
    "answer_encoder.add(Dropout(0.3))\n",
    "\n",
    "#Dot product between answer and question encoders, produces internal state \"u\"\n",
    "prediction = Sequential()\n",
    "prediction.add(Merge([memory_encoder, answer_encoder], mode ='dot'))\n",
    "prediction.add(Dropout(0.3))\n",
    "prediction.add(Dense(10)) #for regularization\n",
    "prediction.add(Activation('softmax')) #for softmax \n",
    "\n",
    "#Optimizer, loss function, metrics setting\n",
    "prediction.compile(optimizer='adam', loss='sparse_categorical_crossentropy', metrics=['accuracy'])\n",
    "\n",
    "#Training\n",
    "prediction.fit([train_data_matrix, train_options_matrix], best_train_answer_matrix, batch_size=BATCH_SIZE, \n",
    "           nb_epoch=EPOCHS_SIZE, validation_data=([test_data_matrix, test_options_matrix], best_test_answer_matrix))\n",
    "\n",
    "#scores = prediction.evaluate([test_data_matrix, test_options_matrix], best_test_answer_matrix)\n",
    "#print(\"%s: %.2f%%\" % (prediction.metrics_names[1], scores[1]*100))"
   ]
  },
  {
   "cell_type": "markdown",
   "metadata": {},
   "source": [
    "# Creating the second model - end to end memory network"
   ]
  },
  {
   "cell_type": "code",
   "execution_count": 36,
   "metadata": {},
   "outputs": [
    {
     "name": "stderr",
     "output_type": "stream",
     "text": [
      "/Users/fridahammarberg/anaconda/lib/python3.6/site-packages/ipykernel_launcher.py:21: UserWarning: The `Merge` layer is deprecated and will be removed after 08/2017. Use instead layers from `keras.layers.merge`, e.g. `add`, `concatenate`, etc.\n",
      "/Users/fridahammarberg/anaconda/lib/python3.6/site-packages/ipykernel_launcher.py:31: UserWarning: The `Merge` layer is deprecated and will be removed after 08/2017. Use instead layers from `keras.layers.merge`, e.g. `add`, `concatenate`, etc.\n",
      "/Users/fridahammarberg/anaconda/lib/python3.6/site-packages/ipykernel_launcher.py:37: UserWarning: The `Merge` layer is deprecated and will be removed after 08/2017. Use instead layers from `keras.layers.merge`, e.g. `add`, `concatenate`, etc.\n",
      "/Users/fridahammarberg/anaconda/lib/python3.6/site-packages/keras/models.py:939: UserWarning: The `nb_epoch` argument in `fit` has been renamed `epochs`.\n",
      "  warnings.warn('The `nb_epoch` argument in `fit` '\n"
     ]
    },
    {
     "name": "stdout",
     "output_type": "stream",
     "text": [
      "Train on 80 samples, validate on 20 samples\n",
      "Epoch 1/5\n",
      "80/80 [==============================] - 5s 58ms/step - loss: 2.2863 - acc: 0.2694 - val_loss: 2.2492 - val_acc: 0.5926\n",
      "Epoch 2/5\n",
      "80/80 [==============================] - 3s 41ms/step - loss: 2.2156 - acc: 0.5908 - val_loss: 2.1311 - val_acc: 0.7219\n",
      "Epoch 3/5\n",
      "80/80 [==============================] - 3s 41ms/step - loss: 2.0774 - acc: 0.7843 - val_loss: 1.9314 - val_acc: 0.8606\n",
      "Epoch 4/5\n",
      "80/80 [==============================] - 3s 40ms/step - loss: 1.8565 - acc: 0.9208 - val_loss: 1.6456 - val_acc: 0.9889\n",
      "Epoch 5/5\n",
      "80/80 [==============================] - 3s 40ms/step - loss: 1.5536 - acc: 0.9889 - val_loss: 1.2831 - val_acc: 0.9997\n"
     ]
    },
    {
     "data": {
      "text/plain": [
       "<keras.callbacks.History at 0x1b0feba58>"
      ]
     },
     "execution_count": 36,
     "metadata": {},
     "output_type": "execute_result"
    }
   ],
   "source": [
    "#Constants\n",
    "VOCABULARY_SIZE = 729 #53628 - estimate from the goldilocks paper\n",
    "HIDDEN_LAYER_SIZE = 64  # 10 neurons for 10 options\n",
    "LSTM_OUTPUT_SIZE=10 #TODO: change LSTM SIZE\n",
    "BATCH_SIZE = 32\n",
    "EPOCHS_SIZE = 5\n",
    "\n",
    "#Initial Embedding matrices A, B for story and options\n",
    "#Each sentence is taken as an n-dimensional vector of float64, with n=VOCABULARY-SIZE\n",
    "#memory_encoder encodes lines 1-21 from story, answer encoder\n",
    "memory_encoder = Sequential()\n",
    "memory_encoder.add(Embedding(input_dim = VOCABULARY_SIZE, output_dim = HIDDEN_LAYER_SIZE,input_length = 729)) #input length = 21\n",
    "memory_encoder.add(Dropout(0.3))\n",
    "\n",
    "option_encoder = Sequential()\n",
    "option_encoder.add(Embedding(input_dim = VOCABULARY_SIZE, output_dim = HIDDEN_LAYER_SIZE,input_length = 729)) #input length = 1\n",
    "option_encoder.add(Dropout(0.3))\n",
    "\n",
    "#Dot product between answer and question encoders, produces internal state \"u\"\n",
    "match = Sequential()\n",
    "match.add(Merge([memory_encoder, option_encoder], mode=\"dot\", dot_axes=[2, 2]))\n",
    "\n",
    "#Story embedded with matrix C to produce output vectors\n",
    "output_memory_encoder = Sequential()\n",
    "output_memory_encoder.add(Embedding(input_dim=VOCABULARY_SIZE,output_dim = 729,input_length = 729)) #input length = 21\n",
    "output_memory_encoder.add(Dropout(0.3))\n",
    "\n",
    "# Response vector, obtained by summing output vectors\n",
    "# Output dim: (None, 10 options, 21)\n",
    "response_vector = Sequential()\n",
    "response_vector.add(Merge([match, output_memory_encoder], mode=\"sum\"))\n",
    "response_vector.add(Permute((2, 1)))\n",
    "\n",
    "#Final embedding for prediction, weighting matrix W\n",
    "#Combine response and question vectors and do backpropagation\n",
    "prediction = Sequential()\n",
    "prediction.add(Merge([response_vector, option_encoder], mode=\"concat\", concat_axis=-1))\n",
    "#prediction.add(LSTM(LSTM_OUTPUT_SIZE)) #for soft memory attention mechanism\n",
    "prediction.add(Dropout(0.3))\n",
    "prediction.add(Dense(10)) #for regularization\n",
    "prediction.add(Activation(\"softmax\")) #for softmax \n",
    "\n",
    "prediction.compile(optimizer=\"adam\", loss=\"sparse_categorical_crossentropy\", metrics=[\"accuracy\"])\n",
    "\n",
    "prediction.fit([train_data_matrix, train_options_matrix, train_data_matrix], best_train_answer_matrix, batch_size=BATCH_SIZE, \n",
    "           nb_epoch=EPOCHS_SIZE, validation_data=([test_data_matrix, test_options_matrix, test_data_matrix], best_test_answer_matrix))\n"
   ]
  },
  {
   "cell_type": "code",
   "execution_count": null,
   "metadata": {
    "collapsed": true
   },
   "outputs": [],
   "source": []
  },
  {
   "cell_type": "code",
   "execution_count": null,
   "metadata": {
    "collapsed": true
   },
   "outputs": [],
   "source": []
  },
  {
   "cell_type": "code",
   "execution_count": null,
   "metadata": {
    "collapsed": true
   },
   "outputs": [],
   "source": []
  }
 ],
 "metadata": {
  "kernelspec": {
   "display_name": "Python 3",
   "language": "python",
   "name": "python3"
  },
  "language_info": {
   "codemirror_mode": {
    "name": "ipython",
    "version": 3
   },
   "file_extension": ".py",
   "mimetype": "text/x-python",
   "name": "python",
   "nbconvert_exporter": "python",
   "pygments_lexer": "ipython3",
   "version": "3.6.1"
  }
 },
 "nbformat": 4,
 "nbformat_minor": 2
}
