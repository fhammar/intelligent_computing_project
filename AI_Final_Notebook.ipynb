{
 "cells": [
  {
   "cell_type": "markdown",
   "metadata": {},
   "source": [
    "Text preprocessing with Keras"
   ]
  },
  {
   "cell_type": "code",
   "execution_count": 10,
   "metadata": {
    "collapsed": false
   },
   "outputs": [
    {
     "name": "stdout",
     "output_type": "stream",
     "text": [
      "D:\\MyStuff\\U\\QD4N1\\Intelligent Computing\\Final Project\\intelligent_computing_project-master\\intelligent_computing_project\n",
      "D:\\MyStuff\\U\\QD4N1\\Intelligent Computing\\Final Project\\intelligent_computing_project-master\n"
     ]
    },
    {
     "ename": "FileNotFoundError",
     "evalue": "[Errno 2] No such file or directory: '/CBTest/data/cbt_text.txt'",
     "output_type": "error",
     "traceback": [
      "\u001b[0;31m---------------------------------------------------------------------------\u001b[0m",
      "\u001b[0;31mFileNotFoundError\u001b[0m                         Traceback (most recent call last)",
      "\u001b[0;32m<ipython-input-10-02cd3fc2bdca>\u001b[0m in \u001b[0;36m<module>\u001b[0;34m()\u001b[0m\n\u001b[1;32m     17\u001b[0m \u001b[1;33m\u001b[0m\u001b[0m\n\u001b[1;32m     18\u001b[0m \u001b[1;31m# Open directories\u001b[0m\u001b[1;33m\u001b[0m\u001b[1;33m\u001b[0m\u001b[0m\n\u001b[0;32m---> 19\u001b[0;31m \u001b[0mf\u001b[0m \u001b[1;33m=\u001b[0m \u001b[0mopen\u001b[0m\u001b[1;33m(\u001b[0m\u001b[1;34m'/CBTest/data/cbt_text.txt'\u001b[0m\u001b[1;33m,\u001b[0m\u001b[1;34m'r'\u001b[0m\u001b[1;33m)\u001b[0m\u001b[1;33m\u001b[0m\u001b[0m\n\u001b[0m\u001b[1;32m     20\u001b[0m \u001b[0mprint\u001b[0m\u001b[1;33m(\u001b[0m\u001b[1;34m'lalala'\u001b[0m\u001b[1;33m)\u001b[0m\u001b[1;33m\u001b[0m\u001b[0m\n\u001b[1;32m     21\u001b[0m \u001b[0mprint\u001b[0m\u001b[1;33m(\u001b[0m\u001b[0mf\u001b[0m\u001b[1;33m.\u001b[0m\u001b[0mreadlines\u001b[0m\u001b[1;33m(\u001b[0m\u001b[1;33m)\u001b[0m\u001b[1;33m)\u001b[0m\u001b[1;33m\u001b[0m\u001b[0m\n",
      "\u001b[0;31mFileNotFoundError\u001b[0m: [Errno 2] No such file or directory: '/CBTest/data/cbt_text.txt'"
     ]
    }
   ],
   "source": [
    "# Miscellaneous libraries\n",
    "import tarfile\n",
    "import pandas as pandas\n",
    "import os\n",
    "\n",
    "# Keras Libraries\n",
    "from keras.utils.data_utils import get_file\n",
    "from keras.preprocessing.text import text_to_word_sequence\n",
    "from keras.preprocessing.text import Tokenizer\n",
    "\n",
    "# Constants\n",
    "VOCABULARY_SIZE = 53628\n",
    "currentDir = dirpath = os.getcwd()\n",
    "print(currentDir)\n",
    "ParentPath = os.path.abspath(os.path.join(currentDir, os.pardir)) \n",
    "print(ParentPath)\n",
    "\n",
    "# Open directories\n",
    "f = open('/CBTest/data/cbt_text.txt','r')\n",
    "print('lalala')\n",
    "print(f.readlines())\n",
    "f.close()\n",
    "\n",
    "# Text preprocessing: Get babi dataset in tar from HTML, from tar to text, \n",
    "#                     from text to Bag of words, fro BOW to vector space\n",
    "\n",
    "#TODO: Separate stories\n",
    "#get trainStories, testStories\n",
    "\n",
    "t=Tokenizer()\n",
    "\n",
    "#repeat for questionDf and answerDf\n",
    "#for row in next.(storiesDf.iterrows())\n",
    "    #t.fit_on_text(storiesDf)\n",
    "    #storyMatrices = t.texts_to_matrix(storiesDf, mode='count')\n",
    "\n"
   ]
  },
  {
   "cell_type": "code",
   "execution_count": 11,
   "metadata": {
    "collapsed": false
   },
   "outputs": [],
   "source": [
    "#import numpy as np\n",
    "#Text extraction with Pandas\n",
    "#df = pd.read_fwf(f, sep=' . ',names='1','2','3','4','5','6','7','8','9','10','11','12','13','14','15','16','17','18','19','20','q','a')\n",
    "#for story in np.array_split(df,22)\n",
    "    #textsDf = story[:19]\n",
    "    #questionsDf = story[20]\n",
    "    #answersDf = story[21]"
   ]
  },
  {
   "cell_type": "markdown",
   "metadata": {},
   "source": [
    "References:\n",
    "https://machinelearningmastery.com/prepare-text-data-deep-learning-keras/\n",
    "https://keras.io/preprocessing/text/\n",
    "http://www.cs.nthu.edu.tw/~shwu/courses/ml/labs/10_Keras_Word2Vec/10_Keras_Word2Vec.html\n",
    "\n",
    "Doubts:\n",
    "Tokenizer API vs text_to_word_sequence\n",
    "THE DEAD WIFE -LRB- 20 -RRB- -LRB- data segments in .txt file\n",
    "use regex for multiple separators in the dataframe read? (numbers...)\n"
   ]
  }
 ],
 "metadata": {
  "kernelspec": {
   "display_name": "Python 3",
   "language": "python",
   "name": "python3"
  }
 },
 "nbformat": 4,
 "nbformat_minor": 2
}
